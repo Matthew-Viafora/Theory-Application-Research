{
 "cells": [
  {
   "cell_type": "code",
   "execution_count": 30,
   "metadata": {},
   "outputs": [],
   "source": [
    "import pandas as pd"
   ]
  },
  {
   "cell_type": "code",
   "execution_count": 31,
   "metadata": {},
   "outputs": [
    {
     "name": "stdout",
     "output_type": "stream",
     "text": [
      "<class 'pandas.core.frame.DataFrame'>\n",
      "RangeIndex: 19 entries, 0 to 18\n",
      "Data columns (total 7 columns):\n",
      " #   Column                    Non-Null Count  Dtype \n",
      "---  ------                    --------------  ----- \n",
      " 0   Unnamed: 0                19 non-null     int64 \n",
      " 1   Unnamed: 0.1              19 non-null     int64 \n",
      " 2   first-author              19 non-null     object\n",
      " 3   first-author-affiliation  19 non-null     object\n",
      " 4   last-author               19 non-null     object\n",
      " 5   last-author-affiliation   19 non-null     object\n",
      " 6   title                     19 non-null     object\n",
      "dtypes: int64(2), object(5)\n",
      "memory usage: 1.2+ KB\n"
     ]
    }
   ],
   "source": [
    "#In the future, we can improve this by being able to read in any/all the datasets\n",
    "\n",
    "#reads in the data set\n",
    "data = pd.read_csv(r\"Affiliation_Parsing/NeurIPS affiliations/NeurIPSaffiliations-2010-affiliation.csv\")\n",
    "data = pd.read_csv(r\"/Users/jhanviganesh/Downloads/xaa.csv\")\n",
    "data.info()"
   ]
  },
  {
   "cell_type": "code",
   "execution_count": 32,
   "metadata": {},
   "outputs": [
    {
     "name": "stdout",
     "output_type": "stream",
     "text": [
      "<class 'pandas.core.frame.DataFrame'>\n",
      "RangeIndex: 19 entries, 0 to 18\n",
      "Data columns (total 4 columns):\n",
      " #   Column                    Non-Null Count  Dtype \n",
      "---  ------                    --------------  ----- \n",
      " 0   first-author              19 non-null     object\n",
      " 1   first-author-affiliation  19 non-null     object\n",
      " 2   last-author               19 non-null     object\n",
      " 3   last-author-affiliation   19 non-null     object\n",
      "dtypes: object(4)\n",
      "memory usage: 736.0+ bytes\n"
     ]
    }
   ],
   "source": [
    "#drops every column that is not the authors or their affiliations\r\n",
    "data = data.drop(data.columns[0:2],axis=1)\r\n",
    "data = data.drop(data.columns[4:5],axis=1)\r\n",
    "data.info()"
   ]
  },
  {
   "cell_type": "code",
   "execution_count": 33,
   "metadata": {},
   "outputs": [],
   "source": [
    "#imports BS4 libraries for webscraping\r\n",
    "from re import I\r\n",
    "import requests\r\n",
    "from bs4 import BeautifulSoup"
   ]
  },
  {
   "cell_type": "code",
   "execution_count": 21,
   "metadata": {},
   "outputs": [],
   "source": [
    "#Need to add in they/them\r\n",
    "#Improve search\r\n",
    "\r\n",
    "\r\n",
    "def findGender(urlLink):\r\n",
    "    gender = ''\r\n",
    "    ## put a url where the desciption of the author is avilable\r\n",
    "    url = urlLink\r\n",
    "    htmlText = requests.get(url).text\r\n",
    "    soup = BeautifulSoup(htmlText, 'html.parser')\r\n",
    "\r\n",
    "\r\n",
    "    # gathers all the p tags from the html\r\n",
    "    soupstring = str(soup.find_all(\"p\"))\r\n",
    "    shetags = [\" she \", \" She \",\" her \", \" Her \",\" hers \",\" Hers \"]\r\n",
    "    hetags = [\" he \", \" He \",\" his \", \" His \",\" him \",\" Him \"]\r\n",
    "\r\n",
    "    ##checks if male or female pronouns are present in the desciption\r\n",
    "    containsfemale = any(femalepronouns in soupstring for femalepronouns in shetags)\r\n",
    "    containsmale = any(malepronouns in soupstring for malepronouns in hetags)\r\n",
    "\r\n",
    "    if containsfemale:\r\n",
    "        gender = \"female\"\r\n",
    "    elif containsmale:\r\n",
    "        gender = \"male\"\r\n",
    "    else:\r\n",
    "        gender = \"undefined\"\r\n",
    "    return gender"
   ]
  },
  {
   "cell_type": "code",
   "execution_count": 34,
   "metadata": {},
   "outputs": [],
   "source": [
    "#returns whether or not a substring exists in a string\r\n",
    "def substring_exists(string, sub_string):\r\n",
    "    return string.find(sub_string)"
   ]
  },
  {
   "cell_type": "code",
   "execution_count": 35,
   "metadata": {},
   "outputs": [],
   "source": [
    "#returns a list of the first-authors\n",
    "def getFirstAuthorList():\n",
    "    for column in data[['first-author']]:\n",
    "        authors = data[column]\n",
    "\n",
    "        '''\n",
    "        Prints out column name and its values\n",
    "        '''\n",
    "        #print('Column Name: '+column)\n",
    "        #print(authors.values)\n",
    "\n",
    "    lst_authors = authors.values\n",
    "    return lst_authors"
   ]
  },
  {
   "cell_type": "code",
   "execution_count": 36,
   "metadata": {},
   "outputs": [],
   "source": [
    "#imports googlesearch to use requests and BS4 to scrape google\r\n",
    "from googlesearch import search"
   ]
  },
  {
   "cell_type": "code",
   "execution_count": 25,
   "metadata": {},
   "outputs": [],
   "source": [
    "#initializes new column for the gender of the first author\n",
    "data['first-gender'] = ''\n",
    "\n",
    "#fills in gender column for first-author column\n",
    "def genderFirstAuthor():\n",
    "\n",
    "    #initializes counter that keep track of author index\n",
    "    counter = 0\n",
    "\n",
    "    #gets list of the first authors\n",
    "    lst=getFirstAuthorList()\n",
    "\n",
    "    #loops through each author in the dataset\n",
    "    for person in lst:\n",
    "\n",
    "        '''\n",
    "        search term for googlesearch\n",
    "        follows structure of author's name, their affiliation, and .edu\n",
    "        i.e. Glendon Chin Steven's Institute of Technology .edu\n",
    "        '''\n",
    "        query=person+\" \"+data['first-author-affiliation'].values[counter]+\" .edu\"\n",
    "\n",
    "        #gets multiple links based on the search term\n",
    "        for link in search(query, 5, \"en\", None):\n",
    "\n",
    "            #if the link is not .edu, we will not use that link\n",
    "            if(substring_exists(link, \".edu\")!=-1):\n",
    "                data['first-gender'].values[counter]=findGender(link)\n",
    "                print(\"Link: \"+link)\n",
    "                print()\n",
    "            else:\n",
    "                print(\"skipped \"+link)\n",
    "        \n",
    "        #increments index, moves to the next row\n",
    "        counter+=1\n",
    "\n"
   ]
  },
  {
   "cell_type": "code",
   "execution_count": 26,
   "metadata": {},
   "outputs": [
    {
     "name": "stdout",
     "output_type": "stream",
     "text": [
      "   first-gender\n",
      "0              \n",
      "1              \n",
      "2              \n",
      "3              \n",
      "4              \n",
      "5              \n",
      "6              \n",
      "7              \n",
      "8              \n",
      "9              \n",
      "10             \n",
      "11             \n",
      "12             \n",
      "13             \n",
      "14             \n",
      "15             \n",
      "16             \n",
      "17             \n",
      "18             \n"
     ]
    }
   ],
   "source": [
    "#As you can see, we need to look into optimizing the findGender function\r\n",
    "#I will continue to work on the googlesearch so that it gives the best websites to navigate\r\n",
    "print(data[['first-gender']])"
   ]
  },
  {
   "cell_type": "code",
   "execution_count": 37,
   "metadata": {},
   "outputs": [],
   "source": [
    "def createKeyValue():\n",
    "    #creates a dictionary for key value pairs\n",
    "    linkDictionary = {}\n",
    "    counter = 0\n",
    "    #temp list for all te edu links for each author\n",
    "    linkArray = []\n",
    "    lst=getFirstAuthorList()\n",
    "    for person in lst:\n",
    "    \n",
    "        query=person+\" \"+data['first-author-affiliation'].values[counter]+\" .edu\"\n",
    "\n",
    "        for link in search(query, tld=\"co.in\", num=10, stop=10, pause=2):\n",
    "            #appends all the edu links of each author in the temp array\n",
    "            if(substring_exists(link, \".edu\")!= -1):\n",
    "                linkArray.append(link)\n",
    "\n",
    "        #creates the pair in the dictonary\n",
    "        linkDictionary[person] = linkArray\n",
    "        #resets the temp array to be empty\n",
    "        linkArray =[]\n",
    "        counter+=1\n",
    "\n",
    "    return linkDictionary"
   ]
  },
  {
   "cell_type": "code",
   "execution_count": null,
   "metadata": {},
   "outputs": [],
   "source": []
  }
 ],
 "metadata": {
  "kernelspec": {
   "display_name": "Python 3.8.8 64-bit ('base': conda)",
   "name": "python388jvsc74a57bd0acff08aa859ae263570361a9a438fd070c1a33f2463cc2c3f1fb761527ea2f43"
  },
  "language_info": {
   "codemirror_mode": {
    "name": "ipython",
    "version": 3
   },
   "file_extension": ".py",
   "mimetype": "text/x-python",
   "name": "python",
   "nbconvert_exporter": "python",
   "pygments_lexer": "ipython3",
   "version": "3.8.8"
  },
  "orig_nbformat": 3
 },
 "nbformat": 4,
 "nbformat_minor": 2
}