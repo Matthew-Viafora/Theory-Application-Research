{
 "cells": [
  {
   "cell_type": "code",
   "execution_count": 7,
   "source": [
    "import pandas as pd"
   ],
   "outputs": [],
   "metadata": {}
  },
  {
   "cell_type": "code",
   "execution_count": 8,
   "source": [
    "#In the future, we can improve this by being able to read in any/all the datasets\r\n",
    "\r\n",
    "#reads in the data set\r\n",
    "data = pd.read_csv(r\"Affiliation_Parsing\\NeurIPS affiliations\\NeurIPSaffiliations-2010-affiliation.csv\")\r\n",
    "data.info()"
   ],
   "outputs": [
    {
     "output_type": "stream",
     "name": "stdout",
     "text": [
      "<class 'pandas.core.frame.DataFrame'>\n",
      "RangeIndex: 292 entries, 0 to 291\n",
      "Data columns (total 7 columns):\n",
      " #   Column                    Non-Null Count  Dtype \n",
      "---  ------                    --------------  ----- \n",
      " 0   Unnamed: 0                292 non-null    int64 \n",
      " 1   Unnamed: 0.1              292 non-null    int64 \n",
      " 2   first-author              292 non-null    object\n",
      " 3   first-author-affiliation  292 non-null    object\n",
      " 4   last-author               292 non-null    object\n",
      " 5   last-author-affiliation   291 non-null    object\n",
      " 6   title                     292 non-null    object\n",
      "dtypes: int64(2), object(5)\n",
      "memory usage: 16.1+ KB\n"
     ]
    }
   ],
   "metadata": {}
  },
  {
   "cell_type": "code",
   "execution_count": 9,
   "source": [
    "#drops every column that is not the authors or their affiliations\r\n",
    "data = data.drop(data.columns[0:2],axis=1)\r\n",
    "data = data.drop(data.columns[4:5],axis=1)\r\n",
    "data.info()"
   ],
   "outputs": [
    {
     "output_type": "stream",
     "name": "stdout",
     "text": [
      "<class 'pandas.core.frame.DataFrame'>\n",
      "RangeIndex: 292 entries, 0 to 291\n",
      "Data columns (total 4 columns):\n",
      " #   Column                    Non-Null Count  Dtype \n",
      "---  ------                    --------------  ----- \n",
      " 0   first-author              292 non-null    object\n",
      " 1   first-author-affiliation  292 non-null    object\n",
      " 2   last-author               292 non-null    object\n",
      " 3   last-author-affiliation   291 non-null    object\n",
      "dtypes: object(4)\n",
      "memory usage: 9.2+ KB\n"
     ]
    }
   ],
   "metadata": {}
  },
  {
   "cell_type": "code",
   "execution_count": 10,
   "source": [
    "#imports BS4 libraries for webscraping\r\n",
    "from re import I\r\n",
    "import requests\r\n",
    "from bs4 import BeautifulSoup"
   ],
   "outputs": [],
   "metadata": {}
  },
  {
   "cell_type": "code",
   "execution_count": 11,
   "source": [
    "#Need to add in they/them\r\n",
    "#Improve search\r\n",
    "\r\n",
    "\r\n",
    "def findGender(urlLink):\r\n",
    "    gender = ''\r\n",
    "    ## put a url where the desciption of the author is avilable\r\n",
    "    url = urlLink\r\n",
    "    htmlText = requests.get(url).text\r\n",
    "    soup = BeautifulSoup(htmlText, 'html.parser')\r\n",
    "\r\n",
    "\r\n",
    "    # gathers all the p tags from the html\r\n",
    "    soupstring = str(soup.find_all(\"p\"))\r\n",
    "    shetags = [\" she \", \" She \",\" her \", \" Her \",\" hers \",\" Hers \"]\r\n",
    "    hetags = [\" he \", \" He \",\" his \", \" His \",\" him \",\" Him \"]\r\n",
    "\r\n",
    "    ##checks if male or female pronouns are present in the desciption\r\n",
    "    containsfemale = any(femalepronouns in soupstring for femalepronouns in shetags)\r\n",
    "    containsmale = any(malepronouns in soupstring for malepronouns in hetags)\r\n",
    "\r\n",
    "    if containsfemale:\r\n",
    "        gender = \"female\"\r\n",
    "    elif containsmale:\r\n",
    "        gender = \"male\"\r\n",
    "    else:\r\n",
    "        gender = \"undefined\"\r\n",
    "    return gender"
   ],
   "outputs": [],
   "metadata": {}
  },
  {
   "cell_type": "code",
   "execution_count": 12,
   "source": [
    "#returns whether or not a substring exists in a string\r\n",
    "def substring_exists(string, sub_string):\r\n",
    "    return string.find(sub_string)"
   ],
   "outputs": [],
   "metadata": {}
  },
  {
   "cell_type": "code",
   "execution_count": 13,
   "source": [
    "#returns a list of the first-authors\r\n",
    "def getFirstAuthorList():\r\n",
    "    for column in data[['first-author']]:\r\n",
    "        authors = data[column]\r\n",
    "\r\n",
    "        '''\r\n",
    "        Prints out column name and its values\r\n",
    "        '''\r\n",
    "        #print('Column Name: '+column)\r\n",
    "        #print(authors.values)\r\n",
    "\r\n",
    "    lst_authors = authors.values\r\n",
    "    return lst_authors"
   ],
   "outputs": [],
   "metadata": {}
  },
  {
   "cell_type": "code",
   "execution_count": 14,
   "source": [
    "#imports googlesearch to use requests and BS4 to scrape google\r\n",
    "from googlesearch import search"
   ],
   "outputs": [],
   "metadata": {}
  },
  {
   "cell_type": "code",
   "execution_count": 17,
   "source": [
    "#initializes new column for the gender of the first author\r\n",
    "data['first-gender'] = ''\r\n",
    "\r\n",
    "#fills in gender column for first-author column\r\n",
    "def genderFirstAuthor():\r\n",
    "\r\n",
    "    #initializes counter that keep track of author index\r\n",
    "    counter = 0\r\n",
    "\r\n",
    "    #gets list of the first authors\r\n",
    "    lst=getFirstAuthorList()\r\n",
    "\r\n",
    "    #loops through each author in the dataset\r\n",
    "    for person in lst:\r\n",
    "\r\n",
    "        '''\r\n",
    "        search term for googlesearch\r\n",
    "        follows structure of author's name, their affiliation, and .edu\r\n",
    "        i.e. Glendon Chin Steven's Institute of Technology .edu\r\n",
    "        '''\r\n",
    "        query=person+\" \"+data['first-author-affiliation'].values[counter]+\" .edu\"\r\n",
    "\r\n",
    "\r\n",
    "        \r\n",
    "        #gets multiple links based on the search term\r\n",
    "        for link in search(query, 5, \"en\", None):\r\n",
    "\r\n",
    "            #if the link is not .edu, we will not use that link\r\n",
    "            if(substring_exists(link, \".edu\")!=-1):\r\n",
    "                data['first-gender'].values[counter]=findGender(link)\r\n",
    "                print(\"Author: \"+data['first-author'].values[counter])\r\n",
    "                print(\"Affiliation: \"+data['first-author-affiliation'].values[counter])\r\n",
    "                print(\"Gender: \"+data['first-gender'].values[counter])\r\n",
    "                print(\"Counter: \"+str(counter))\r\n",
    "                print(\"Link: \"+link)\r\n",
    "                print()\r\n",
    "                break\r\n",
    "            else:\r\n",
    "                print(\"Skipped \"+link)\r\n",
    "        print()\r\n",
    "        \r\n",
    "        #increments index, moves to the next row\r\n",
    "        counter+=1\r\n"
   ],
   "outputs": [],
   "metadata": {}
  },
  {
   "cell_type": "code",
   "execution_count": 18,
   "source": [
    "genderFirstAuthor()"
   ],
   "outputs": [
    {
     "output_type": "stream",
     "name": "stdout",
     "text": [
      "Author: Surya Ganguli\n",
      "Affiliation: Stanford\n",
      "Gender: undefined\n",
      "Counter: 0\n",
      "Link: https://ganguli-gang.stanford.edu/\n",
      "\n",
      "\n",
      "Skipped https://www.microsoft.com/en-us/research/people/hal3/\n",
      "Author: Hal Daumé III\n",
      "Affiliation: Univ of Maryland / Microsoft Research\n",
      "Gender: male\n",
      "Counter: 1\n",
      "Link: http://www.umiacs.umd.edu/~hal/\n",
      "\n",
      "\n",
      "Skipped https://www.linkedin.com/in/akshat-kumar-7a8250\n",
      "Author: Akshat Kumar\n",
      "Affiliation: University of Massachusetts, Amherst\n",
      "Gender: male\n",
      "Counter: 2\n",
      "Link: https://www.cics.umass.edu/news/latest-news/akshat-kumar-wins-icaps-2014-best-dissertation-award\n",
      "\n",
      "\n",
      "Author: Alan Fern\n",
      "Affiliation: Oregon State University\n",
      "Gender: male\n",
      "Counter: 3\n",
      "Link: https://eecs.oregonstate.edu/people/fern-alan\n",
      "\n",
      "\n",
      "Author: Deqing Sun\n",
      "Affiliation: Brown University\n",
      "Gender: undefined\n",
      "Counter: 4\n",
      "Link: http://cs.brown.edu/~dqsun/research/\n",
      "\n",
      "\n",
      "Skipped https://zicokolter.com/\n",
      "Skipped http://zicokolter.com/bosch/\n",
      "Skipped https://www.bosch-ai.com/research/zico-kolter/\n",
      "Author: J. Zico Kolter\n",
      "Affiliation: Carnegie Mellon University / Bosch Center for AI\n",
      "Gender: undefined\n",
      "Counter: 5\n",
      "Link: https://www.ece.cmu.edu/directory/bios/kolter-zico.html\n",
      "\n",
      "\n",
      "Skipped https://www.linkedin.com/in/ling-huang-3063b22\n",
      "Skipped http://www.linghuang.org/\n",
      "Skipped http://www.linghuang.org/rad/\n",
      "Skipped https://ieeexplore.ieee.org/author/37085432082\n",
      "Skipped https://www.usenix.org/conference/slaml10/speaker-or-organizer/ling-huang-intel-labs-berkeley\n",
      "Skipped https://www.crunchbase.com/person/ling-huang\n",
      "\n",
      "Skipped http://martin.zinkevich.org/publications/resume.html\n",
      "Skipped https://slideplayer.com/slide/3937606/\n",
      "Skipped https://dl.acm.org/profile/81100579912\n",
      "Skipped https://www.linkedin.com/in/martin-zinkevich-55583540\n",
      "Skipped https://openreview.net/profile?id=~Martin_Zinkevich1\n"
     ]
    },
    {
     "output_type": "error",
     "ename": "KeyboardInterrupt",
     "evalue": "",
     "traceback": [
      "\u001b[1;31m---------------------------------------------------------------------------\u001b[0m",
      "\u001b[1;31mKeyboardInterrupt\u001b[0m                         Traceback (most recent call last)",
      "\u001b[1;32m<ipython-input-18-45ed67aff2bd>\u001b[0m in \u001b[0;36m<module>\u001b[1;34m\u001b[0m\n\u001b[1;32m----> 1\u001b[1;33m \u001b[0mgenderFirstAuthor\u001b[0m\u001b[1;33m(\u001b[0m\u001b[1;33m)\u001b[0m\u001b[1;33m\u001b[0m\u001b[1;33m\u001b[0m\u001b[0m\n\u001b[0m",
      "\u001b[1;32m<ipython-input-17-c1c471041083>\u001b[0m in \u001b[0;36mgenderFirstAuthor\u001b[1;34m()\u001b[0m\n\u001b[0;32m     26\u001b[0m             \u001b[1;31m#if the link is not .edu, we will not use that link\u001b[0m\u001b[1;33m\u001b[0m\u001b[1;33m\u001b[0m\u001b[1;33m\u001b[0m\u001b[0m\n\u001b[0;32m     27\u001b[0m             \u001b[1;32mif\u001b[0m\u001b[1;33m(\u001b[0m\u001b[0msubstring_exists\u001b[0m\u001b[1;33m(\u001b[0m\u001b[0mlink\u001b[0m\u001b[1;33m,\u001b[0m \u001b[1;34m\".edu\"\u001b[0m\u001b[1;33m)\u001b[0m\u001b[1;33m!=\u001b[0m\u001b[1;33m-\u001b[0m\u001b[1;36m1\u001b[0m\u001b[1;33m)\u001b[0m\u001b[1;33m:\u001b[0m\u001b[1;33m\u001b[0m\u001b[1;33m\u001b[0m\u001b[0m\n\u001b[1;32m---> 28\u001b[1;33m                 \u001b[0mdata\u001b[0m\u001b[1;33m[\u001b[0m\u001b[1;34m'first-gender'\u001b[0m\u001b[1;33m]\u001b[0m\u001b[1;33m.\u001b[0m\u001b[0mvalues\u001b[0m\u001b[1;33m[\u001b[0m\u001b[0mcounter\u001b[0m\u001b[1;33m]\u001b[0m\u001b[1;33m=\u001b[0m\u001b[0mfindGender\u001b[0m\u001b[1;33m(\u001b[0m\u001b[0mlink\u001b[0m\u001b[1;33m)\u001b[0m\u001b[1;33m\u001b[0m\u001b[1;33m\u001b[0m\u001b[0m\n\u001b[0m\u001b[0;32m     29\u001b[0m                 \u001b[0mprint\u001b[0m\u001b[1;33m(\u001b[0m\u001b[1;34m\"Author: \"\u001b[0m\u001b[1;33m+\u001b[0m\u001b[0mdata\u001b[0m\u001b[1;33m[\u001b[0m\u001b[1;34m'first-author'\u001b[0m\u001b[1;33m]\u001b[0m\u001b[1;33m.\u001b[0m\u001b[0mvalues\u001b[0m\u001b[1;33m[\u001b[0m\u001b[0mcounter\u001b[0m\u001b[1;33m]\u001b[0m\u001b[1;33m)\u001b[0m\u001b[1;33m\u001b[0m\u001b[1;33m\u001b[0m\u001b[0m\n\u001b[0;32m     30\u001b[0m                 \u001b[0mprint\u001b[0m\u001b[1;33m(\u001b[0m\u001b[1;34m\"Affiliation: \"\u001b[0m\u001b[1;33m+\u001b[0m\u001b[0mdata\u001b[0m\u001b[1;33m[\u001b[0m\u001b[1;34m'first-author-affiliation'\u001b[0m\u001b[1;33m]\u001b[0m\u001b[1;33m.\u001b[0m\u001b[0mvalues\u001b[0m\u001b[1;33m[\u001b[0m\u001b[0mcounter\u001b[0m\u001b[1;33m]\u001b[0m\u001b[1;33m)\u001b[0m\u001b[1;33m\u001b[0m\u001b[1;33m\u001b[0m\u001b[0m\n",
      "\u001b[1;32m<ipython-input-11-f980202e0188>\u001b[0m in \u001b[0;36mfindGender\u001b[1;34m(urlLink)\u001b[0m\n\u001b[0;32m      7\u001b[0m     \u001b[1;31m## put a url where the desciption of the author is avilable\u001b[0m\u001b[1;33m\u001b[0m\u001b[1;33m\u001b[0m\u001b[1;33m\u001b[0m\u001b[0m\n\u001b[0;32m      8\u001b[0m     \u001b[0murl\u001b[0m \u001b[1;33m=\u001b[0m \u001b[0murlLink\u001b[0m\u001b[1;33m\u001b[0m\u001b[1;33m\u001b[0m\u001b[0m\n\u001b[1;32m----> 9\u001b[1;33m     \u001b[0mhtmlText\u001b[0m \u001b[1;33m=\u001b[0m \u001b[0mrequests\u001b[0m\u001b[1;33m.\u001b[0m\u001b[0mget\u001b[0m\u001b[1;33m(\u001b[0m\u001b[0murl\u001b[0m\u001b[1;33m)\u001b[0m\u001b[1;33m.\u001b[0m\u001b[0mtext\u001b[0m\u001b[1;33m\u001b[0m\u001b[1;33m\u001b[0m\u001b[0m\n\u001b[0m\u001b[0;32m     10\u001b[0m     \u001b[0msoup\u001b[0m \u001b[1;33m=\u001b[0m \u001b[0mBeautifulSoup\u001b[0m\u001b[1;33m(\u001b[0m\u001b[0mhtmlText\u001b[0m\u001b[1;33m,\u001b[0m \u001b[1;34m'html.parser'\u001b[0m\u001b[1;33m)\u001b[0m\u001b[1;33m\u001b[0m\u001b[1;33m\u001b[0m\u001b[0m\n\u001b[0;32m     11\u001b[0m \u001b[1;33m\u001b[0m\u001b[0m\n",
      "\u001b[1;32m~\\lib\\site-packages\\requests\\models.py\u001b[0m in \u001b[0;36mtext\u001b[1;34m(self)\u001b[0m\n\u001b[0;32m    858\u001b[0m         \u001b[1;31m# Fallback to auto-detected encoding.\u001b[0m\u001b[1;33m\u001b[0m\u001b[1;33m\u001b[0m\u001b[1;33m\u001b[0m\u001b[0m\n\u001b[0;32m    859\u001b[0m         \u001b[1;32mif\u001b[0m \u001b[0mself\u001b[0m\u001b[1;33m.\u001b[0m\u001b[0mencoding\u001b[0m \u001b[1;32mis\u001b[0m \u001b[1;32mNone\u001b[0m\u001b[1;33m:\u001b[0m\u001b[1;33m\u001b[0m\u001b[1;33m\u001b[0m\u001b[0m\n\u001b[1;32m--> 860\u001b[1;33m             \u001b[0mencoding\u001b[0m \u001b[1;33m=\u001b[0m \u001b[0mself\u001b[0m\u001b[1;33m.\u001b[0m\u001b[0mapparent_encoding\u001b[0m\u001b[1;33m\u001b[0m\u001b[1;33m\u001b[0m\u001b[0m\n\u001b[0m\u001b[0;32m    861\u001b[0m \u001b[1;33m\u001b[0m\u001b[0m\n\u001b[0;32m    862\u001b[0m         \u001b[1;31m# Decode unicode from given encoding.\u001b[0m\u001b[1;33m\u001b[0m\u001b[1;33m\u001b[0m\u001b[1;33m\u001b[0m\u001b[0m\n",
      "\u001b[1;32m~\\lib\\site-packages\\requests\\models.py\u001b[0m in \u001b[0;36mapparent_encoding\u001b[1;34m(self)\u001b[0m\n\u001b[0;32m    728\u001b[0m     \u001b[1;32mdef\u001b[0m \u001b[0mapparent_encoding\u001b[0m\u001b[1;33m(\u001b[0m\u001b[0mself\u001b[0m\u001b[1;33m)\u001b[0m\u001b[1;33m:\u001b[0m\u001b[1;33m\u001b[0m\u001b[1;33m\u001b[0m\u001b[0m\n\u001b[0;32m    729\u001b[0m         \u001b[1;34m\"\"\"The apparent encoding, provided by the chardet library.\"\"\"\u001b[0m\u001b[1;33m\u001b[0m\u001b[1;33m\u001b[0m\u001b[0m\n\u001b[1;32m--> 730\u001b[1;33m         \u001b[1;32mreturn\u001b[0m \u001b[0mchardet\u001b[0m\u001b[1;33m.\u001b[0m\u001b[0mdetect\u001b[0m\u001b[1;33m(\u001b[0m\u001b[0mself\u001b[0m\u001b[1;33m.\u001b[0m\u001b[0mcontent\u001b[0m\u001b[1;33m)\u001b[0m\u001b[1;33m[\u001b[0m\u001b[1;34m'encoding'\u001b[0m\u001b[1;33m]\u001b[0m\u001b[1;33m\u001b[0m\u001b[1;33m\u001b[0m\u001b[0m\n\u001b[0m\u001b[0;32m    731\u001b[0m \u001b[1;33m\u001b[0m\u001b[0m\n\u001b[0;32m    732\u001b[0m     \u001b[1;32mdef\u001b[0m \u001b[0miter_content\u001b[0m\u001b[1;33m(\u001b[0m\u001b[0mself\u001b[0m\u001b[1;33m,\u001b[0m \u001b[0mchunk_size\u001b[0m\u001b[1;33m=\u001b[0m\u001b[1;36m1\u001b[0m\u001b[1;33m,\u001b[0m \u001b[0mdecode_unicode\u001b[0m\u001b[1;33m=\u001b[0m\u001b[1;32mFalse\u001b[0m\u001b[1;33m)\u001b[0m\u001b[1;33m:\u001b[0m\u001b[1;33m\u001b[0m\u001b[1;33m\u001b[0m\u001b[0m\n",
      "\u001b[1;32m~\\lib\\site-packages\\chardet\\__init__.py\u001b[0m in \u001b[0;36mdetect\u001b[1;34m(byte_str)\u001b[0m\n\u001b[0;32m     39\u001b[0m             \u001b[0mbyte_str\u001b[0m \u001b[1;33m=\u001b[0m \u001b[0mbytearray\u001b[0m\u001b[1;33m(\u001b[0m\u001b[0mbyte_str\u001b[0m\u001b[1;33m)\u001b[0m\u001b[1;33m\u001b[0m\u001b[1;33m\u001b[0m\u001b[0m\n\u001b[0;32m     40\u001b[0m     \u001b[0mdetector\u001b[0m \u001b[1;33m=\u001b[0m \u001b[0mUniversalDetector\u001b[0m\u001b[1;33m(\u001b[0m\u001b[1;33m)\u001b[0m\u001b[1;33m\u001b[0m\u001b[1;33m\u001b[0m\u001b[0m\n\u001b[1;32m---> 41\u001b[1;33m     \u001b[0mdetector\u001b[0m\u001b[1;33m.\u001b[0m\u001b[0mfeed\u001b[0m\u001b[1;33m(\u001b[0m\u001b[0mbyte_str\u001b[0m\u001b[1;33m)\u001b[0m\u001b[1;33m\u001b[0m\u001b[1;33m\u001b[0m\u001b[0m\n\u001b[0m\u001b[0;32m     42\u001b[0m     \u001b[1;32mreturn\u001b[0m \u001b[0mdetector\u001b[0m\u001b[1;33m.\u001b[0m\u001b[0mclose\u001b[0m\u001b[1;33m(\u001b[0m\u001b[1;33m)\u001b[0m\u001b[1;33m\u001b[0m\u001b[1;33m\u001b[0m\u001b[0m\n\u001b[0;32m     43\u001b[0m \u001b[1;33m\u001b[0m\u001b[0m\n",
      "\u001b[1;32m~\\lib\\site-packages\\chardet\\universaldetector.py\u001b[0m in \u001b[0;36mfeed\u001b[1;34m(self, byte_str)\u001b[0m\n\u001b[0;32m    209\u001b[0m                 \u001b[0mself\u001b[0m\u001b[1;33m.\u001b[0m\u001b[0m_charset_probers\u001b[0m\u001b[1;33m.\u001b[0m\u001b[0mappend\u001b[0m\u001b[1;33m(\u001b[0m\u001b[0mLatin1Prober\u001b[0m\u001b[1;33m(\u001b[0m\u001b[1;33m)\u001b[0m\u001b[1;33m)\u001b[0m\u001b[1;33m\u001b[0m\u001b[1;33m\u001b[0m\u001b[0m\n\u001b[0;32m    210\u001b[0m             \u001b[1;32mfor\u001b[0m \u001b[0mprober\u001b[0m \u001b[1;32min\u001b[0m \u001b[0mself\u001b[0m\u001b[1;33m.\u001b[0m\u001b[0m_charset_probers\u001b[0m\u001b[1;33m:\u001b[0m\u001b[1;33m\u001b[0m\u001b[1;33m\u001b[0m\u001b[0m\n\u001b[1;32m--> 211\u001b[1;33m                 \u001b[1;32mif\u001b[0m \u001b[0mprober\u001b[0m\u001b[1;33m.\u001b[0m\u001b[0mfeed\u001b[0m\u001b[1;33m(\u001b[0m\u001b[0mbyte_str\u001b[0m\u001b[1;33m)\u001b[0m \u001b[1;33m==\u001b[0m \u001b[0mProbingState\u001b[0m\u001b[1;33m.\u001b[0m\u001b[0mFOUND_IT\u001b[0m\u001b[1;33m:\u001b[0m\u001b[1;33m\u001b[0m\u001b[1;33m\u001b[0m\u001b[0m\n\u001b[0m\u001b[0;32m    212\u001b[0m                     self.result = {'encoding': prober.charset_name,\n\u001b[0;32m    213\u001b[0m                                    \u001b[1;34m'confidence'\u001b[0m\u001b[1;33m:\u001b[0m \u001b[0mprober\u001b[0m\u001b[1;33m.\u001b[0m\u001b[0mget_confidence\u001b[0m\u001b[1;33m(\u001b[0m\u001b[1;33m)\u001b[0m\u001b[1;33m,\u001b[0m\u001b[1;33m\u001b[0m\u001b[1;33m\u001b[0m\u001b[0m\n",
      "\u001b[1;32m~\\lib\\site-packages\\chardet\\charsetgroupprober.py\u001b[0m in \u001b[0;36mfeed\u001b[1;34m(self, byte_str)\u001b[0m\n\u001b[0;32m     69\u001b[0m             \u001b[1;32mif\u001b[0m \u001b[1;32mnot\u001b[0m \u001b[0mprober\u001b[0m\u001b[1;33m.\u001b[0m\u001b[0mactive\u001b[0m\u001b[1;33m:\u001b[0m\u001b[1;33m\u001b[0m\u001b[1;33m\u001b[0m\u001b[0m\n\u001b[0;32m     70\u001b[0m                 \u001b[1;32mcontinue\u001b[0m\u001b[1;33m\u001b[0m\u001b[1;33m\u001b[0m\u001b[0m\n\u001b[1;32m---> 71\u001b[1;33m             \u001b[0mstate\u001b[0m \u001b[1;33m=\u001b[0m \u001b[0mprober\u001b[0m\u001b[1;33m.\u001b[0m\u001b[0mfeed\u001b[0m\u001b[1;33m(\u001b[0m\u001b[0mbyte_str\u001b[0m\u001b[1;33m)\u001b[0m\u001b[1;33m\u001b[0m\u001b[1;33m\u001b[0m\u001b[0m\n\u001b[0m\u001b[0;32m     72\u001b[0m             \u001b[1;32mif\u001b[0m \u001b[1;32mnot\u001b[0m \u001b[0mstate\u001b[0m\u001b[1;33m:\u001b[0m\u001b[1;33m\u001b[0m\u001b[1;33m\u001b[0m\u001b[0m\n\u001b[0;32m     73\u001b[0m                 \u001b[1;32mcontinue\u001b[0m\u001b[1;33m\u001b[0m\u001b[1;33m\u001b[0m\u001b[0m\n",
      "\u001b[1;32m~\\lib\\site-packages\\chardet\\sbcharsetprober.py\u001b[0m in \u001b[0;36mfeed\u001b[1;34m(self, byte_str)\u001b[0m\n\u001b[0;32m     96\u001b[0m         \u001b[0mlanguage_model\u001b[0m \u001b[1;33m=\u001b[0m \u001b[0mself\u001b[0m\u001b[1;33m.\u001b[0m\u001b[0m_model\u001b[0m\u001b[1;33m.\u001b[0m\u001b[0mlanguage_model\u001b[0m\u001b[1;33m\u001b[0m\u001b[1;33m\u001b[0m\u001b[0m\n\u001b[0;32m     97\u001b[0m         \u001b[1;32mfor\u001b[0m \u001b[0mchar\u001b[0m \u001b[1;32min\u001b[0m \u001b[0mbyte_str\u001b[0m\u001b[1;33m:\u001b[0m\u001b[1;33m\u001b[0m\u001b[1;33m\u001b[0m\u001b[0m\n\u001b[1;32m---> 98\u001b[1;33m             \u001b[0morder\u001b[0m \u001b[1;33m=\u001b[0m \u001b[0mchar_to_order_map\u001b[0m\u001b[1;33m.\u001b[0m\u001b[0mget\u001b[0m\u001b[1;33m(\u001b[0m\u001b[0mchar\u001b[0m\u001b[1;33m,\u001b[0m \u001b[0mCharacterCategory\u001b[0m\u001b[1;33m.\u001b[0m\u001b[0mUNDEFINED\u001b[0m\u001b[1;33m)\u001b[0m\u001b[1;33m\u001b[0m\u001b[1;33m\u001b[0m\u001b[0m\n\u001b[0m\u001b[0;32m     99\u001b[0m             \u001b[1;31m# XXX: This was SYMBOL_CAT_ORDER before, with a value of 250, but\u001b[0m\u001b[1;33m\u001b[0m\u001b[1;33m\u001b[0m\u001b[1;33m\u001b[0m\u001b[0m\n\u001b[0;32m    100\u001b[0m             \u001b[1;31m#      CharacterCategory.SYMBOL is actually 253, so we use CONTROL\u001b[0m\u001b[1;33m\u001b[0m\u001b[1;33m\u001b[0m\u001b[1;33m\u001b[0m\u001b[0m\n",
      "\u001b[1;31mKeyboardInterrupt\u001b[0m: "
     ]
    }
   ],
   "metadata": {}
  },
  {
   "cell_type": "code",
   "execution_count": 50,
   "source": [
    "#As you can see, we need to look into optimizing the findGender function\r\n",
    "#I will continue to work on the googlesearch so that it gives the best websites to navigate\r\n",
    "print(data[['first-gender']])"
   ],
   "outputs": [
    {
     "output_type": "stream",
     "name": "stdout",
     "text": [
      "    first-gender\n",
      "0      undefined\n",
      "1      undefined\n",
      "2      undefined\n",
      "3      undefined\n",
      "4      undefined\n",
      "..           ...\n",
      "287             \n",
      "288             \n",
      "289             \n",
      "290             \n",
      "291             \n",
      "\n",
      "[292 rows x 1 columns]\n"
     ]
    }
   ],
   "metadata": {}
  },
  {
   "cell_type": "code",
   "execution_count": 1,
   "source": [
    "import threading\r\n",
    "import time"
   ],
   "outputs": [],
   "metadata": {}
  },
  {
   "cell_type": "code",
   "execution_count": 13,
   "source": [
    "import concurrent.futures"
   ],
   "outputs": [],
   "metadata": {}
  },
  {
   "cell_type": "code",
   "execution_count": 38,
   "source": [
    "from random import randint\r\n",
    "\r\n",
    "#skeleton for actual timer function\r\n",
    "#this example shows how the timer will function concurrently with the function\r\n",
    "\r\n",
    "def checkTime(seconds):\r\n",
    "    print(f'Sleeping {seconds} second(s)...')\r\n",
    "    time.sleep(seconds)\r\n",
    "    return f'Done Sleeping...{seconds}'\r\n",
    "\r\n",
    "def runTimer():\r\n",
    "    value = randint(0, 5)\r\n",
    "    while value!=3:\r\n",
    "        with concurrent.futures.ThreadPoolExecutor() as executor:\r\n",
    "            secs = [3,2,1]\r\n",
    "            results = executor.map(checkTime, secs)\r\n",
    "        value = randint(0, 5)\r\n",
    "        print(value)\r\n",
    "\r\n",
    "runTimer()"
   ],
   "outputs": [
    {
     "output_type": "stream",
     "name": "stdout",
     "text": [
      "Sleeping 3 second(s)...\n",
      "Sleeping 2 second(s)...\n",
      "Sleeping 1 second(s)...\n",
      "0\n",
      "Sleeping 3 second(s)...\n",
      "Sleeping 2 second(s)...\n",
      "Sleeping 1 second(s)...\n",
      "2\n",
      "Sleeping 3 second(s)...Sleeping 2 second(s)...\n",
      "Sleeping 1 second(s)...\n",
      "\n",
      "1\n",
      "Sleeping 3 second(s)...\n",
      "Sleeping 2 second(s)...\n",
      "Sleeping 1 second(s)...\n",
      "3\n"
     ]
    }
   ],
   "metadata": {}
  },
  {
   "cell_type": "code",
   "execution_count": null,
   "source": [],
   "outputs": [],
   "metadata": {}
  }
 ],
 "metadata": {
  "interpreter": {
   "hash": "5af0d237d632a51ca6e5a9b5c789db7065d8a5950289640f1186ffdca5fccfd0"
  },
  "kernelspec": {
   "display_name": "Python 3.9.0 64-bit",
   "name": "python3"
  },
  "language_info": {
   "name": "python",
   "version": ""
  },
  "orig_nbformat": 4
 },
 "nbformat": 4,
 "nbformat_minor": 2
}