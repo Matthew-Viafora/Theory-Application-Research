{
 "cells": [
  {
   "cell_type": "code",
   "execution_count": 21,
   "metadata": {},
   "outputs": [],
   "source": [
    "import pandas as pd\n",
    "# imports googlesearch to use requests and BS4 to scrape google\n",
    "from googlesearch import search\n"
   ]
  },
  {
   "cell_type": "code",
   "execution_count": 3,
   "metadata": {},
   "outputs": [
    {
     "name": "stdout",
     "output_type": "stream",
     "text": [
      "<class 'pandas.core.frame.DataFrame'>\n",
      "RangeIndex: 19 entries, 0 to 18\n",
      "Data columns (total 7 columns):\n",
      " #   Column                    Non-Null Count  Dtype \n",
      "---  ------                    --------------  ----- \n",
      " 0   Unnamed: 0                19 non-null     int64 \n",
      " 1   Unnamed: 0.1              19 non-null     int64 \n",
      " 2   first-author              19 non-null     object\n",
      " 3   first-author-affiliation  19 non-null     object\n",
      " 4   last-author               19 non-null     object\n",
      " 5   last-author-affiliation   19 non-null     object\n",
      " 6   title                     19 non-null     object\n",
      "dtypes: int64(2), object(5)\n",
      "memory usage: 1.2+ KB\n"
     ]
    }
   ],
   "source": [
    "# In the future, we can improve this by being able to read in any/all the datasets\n",
    "\n",
    "# reads in the data set\n",
    "#data = pd.read_csv(r\"Affiliation_Parsing/NeurIPS affiliations/NeurIPSaffiliations-2010-affiliation.csv\")\n",
    "data = pd.read_csv(r\"Affiliation_Parsing/NeurIPS affiliations gender/NeurIPS-2010/xaa.csv\")\n",
    "data.info()\n"
   ]
  },
  {
   "cell_type": "code",
   "execution_count": 4,
   "metadata": {},
   "outputs": [
    {
     "name": "stdout",
     "output_type": "stream",
     "text": [
      "<class 'pandas.core.frame.DataFrame'>\n",
      "RangeIndex: 19 entries, 0 to 18\n",
      "Data columns (total 4 columns):\n",
      " #   Column                    Non-Null Count  Dtype \n",
      "---  ------                    --------------  ----- \n",
      " 0   first-author              19 non-null     object\n",
      " 1   first-author-affiliation  19 non-null     object\n",
      " 2   last-author               19 non-null     object\n",
      " 3   last-author-affiliation   19 non-null     object\n",
      "dtypes: object(4)\n",
      "memory usage: 736.0+ bytes\n"
     ]
    }
   ],
   "source": [
    "# drops every column that is not the authors or their affiliations\n",
    "data = data.drop(data.columns[0:2], axis=1)\n",
    "data = data.drop(data.columns[4:5], axis=1)\n",
    "data.info()\n"
   ]
  },
  {
   "cell_type": "code",
   "execution_count": 5,
   "metadata": {},
   "outputs": [],
   "source": [
    "# imports BS4 libraries for webscraping\n",
    "from re import I\n",
    "import requests\n",
    "from bs4 import BeautifulSoup\n"
   ]
  },
  {
   "cell_type": "code",
   "execution_count": 6,
   "metadata": {},
   "outputs": [],
   "source": [
    "# Need to add in they/them\n",
    "# Improve search\n",
    "\n",
    "\n",
    "def findGender(urlLink):\n",
    "    gender = ''\n",
    "    ## put a url where the desciption of the author is avilable\n",
    "    \n",
    "    url = urlLink\n",
    "   \n",
    "    htmlText = requests.get(url).text\n",
    "    #print(htmlText)\n",
    "    soup = BeautifulSoup(htmlText, 'html.parser')\n",
    "    \n",
    "    \n",
    "    # gathers all the p tags from the html\n",
    "    soupstring=str(soup.find_all(\"div\")) + str(soup.find_all(\"p\"))\n",
    "    #print(soupstring)\n",
    "    shetags = [\" she.\", \" she, \",\" she \", \" She \",\"She \", \n",
    "              \" her.\", \" her, \",\" her \",\" Her \",\"Her \"\n",
    "              \" her.\",\" hers, \",\" hers \",\"Hers \",\" Hers\"\n",
    "               , \"She’s \", \" she's \" ]\n",
    "    \n",
    "    hetags = [\" he.\", \" he, \",\" he \", \" He \",\"He \", \n",
    "              \" his.\", \" his, \",\" his \",\" His \",\"His \"\n",
    "              \" him.\",\" him, \",\" him \",\" Him \", \"He’s \", \" he's \" ]\n",
    "    \n",
    "    theytags = [\" they \", \"They \", \" them \", \"Them \" ]\n",
    "\n",
    "    ##checks if male or female pronouns are present in the desciption\n",
    "\n",
    "    containsfemale = any(femalepronouns in soupstring for femalepronouns in shetags)\n",
    "    containsmale = any(malepronouns in soupstring for malepronouns in hetags)\n",
    "    containsthey = any(theypronouns in soupstring for theypronouns in theytags)\n",
    "\n",
    "    if containsfemale:\n",
    "        gender = \"female\"\n",
    "    elif containsmale:\n",
    "        \n",
    "        gender = \"male\"\n",
    "#     elif containsthey:\n",
    "#         gender = \"they/them\"\n",
    "    else:\n",
    "        gender = \"inconclusive\"\n",
    "    print(gender) \n",
    "\n"
   ]
  },
  {
   "cell_type": "code",
   "execution_count": 25,
   "metadata": {},
   "outputs": [
    {
     "name": "stdout",
     "output_type": "stream",
     "text": [
      "male\n"
     ]
    }
   ],
   "source": [
    "findGender(\"https://www.cmu.edu/energy/people/alpha-list/zico-kolter.html\")"
   ]
  },
  {
   "cell_type": "code",
   "execution_count": 6,
   "metadata": {},
   "outputs": [],
   "source": [
    "# returns whether or not a substring exists in a string\n",
    "def substring_exists(string, sub_string):\n",
    "    return string.find(sub_string)\n"
   ]
  },
  {
   "cell_type": "code",
   "execution_count": 7,
   "metadata": {},
   "outputs": [],
   "source": [
    "# returns a list of the first-authors\n",
    "def getFirstAuthorList():\n",
    "    for column in data[['first-author']]:\n",
    "        authors = data[column]\n",
    "\n",
    "        '''\n",
    "        Prints out column name and its values\n",
    "        '''\n",
    "        #print('Column Name: '+column)\n",
    "        # print(authors.values)\n",
    "\n",
    "    lst_authors = authors.values\n",
    "    return lst_authors\n"
   ]
  },
  {
   "cell_type": "code",
   "execution_count": 53,
   "metadata": {},
   "outputs": [
    {
     "name": "stdout",
     "output_type": "stream",
     "text": [
      "   first-gender\n",
      "0              \n",
      "1              \n",
      "2              \n",
      "3              \n",
      "4              \n",
      "5              \n",
      "6              \n",
      "7              \n",
      "8              \n",
      "9              \n",
      "10             \n",
      "11             \n",
      "12             \n",
      "13             \n",
      "14             \n",
      "15             \n",
      "16             \n",
      "17             \n",
      "18             \n"
     ]
    }
   ],
   "source": [
    "# As you can see, we need to look into optimizing the findGender function\n",
    "# I will continue to work on the googlesearch so that it gives the best websites to navigate\n",
    "print(data[['first-gender']])\n"
   ]
  },
  {
   "cell_type": "code",
   "execution_count": 19,
   "metadata": {},
   "outputs": [],
   "source": [
    "def createKeyValue():\n",
    "    #creates a dictionary for key value pairs\n",
    "    linkDictionary = {}\n",
    "    counter = 0\n",
    "    linkArray = []\n",
    "    lst = getFirstAuthorList()\n",
    "    #if we have any particular domains which we dont want to include in out searches we can input them in this list\n",
    "    unwantedLinks = [\"pdf\", \"dblp\"]\n",
    "    for person in lst:\n",
    "\n",
    "        query = person+\" \" + data['first-author-affiliation'].values[counter]+\" .edu\"\n",
    "\n",
    "        for link in search(query, tld=\"co.in\", num=10, stop=10):\n",
    "            # appends .edu and .org links into the array\n",
    "            if(substring_exists(link, \".edu\") != -1 or substring_exists(link, \".org\") != -1 ):\n",
    "                #checks if each link contains anything from the list of unwanted list\n",
    "                containsUnwanted = any(elements in link for elements in unwantedLinks)\n",
    "                if(containsUnwanted == False):\n",
    "                    linkArray.append(link)\n",
    "\n",
    "        # creates the pair in the dictonary\n",
    "        linkDictionary[person] = linkArray\n",
    "        linkArray = []\n",
    "        counter += 1\n",
    "\n",
    "    return linkDictionary"
   ]
  },
  {
   "cell_type": "code",
   "execution_count": 20,
   "metadata": {},
   "outputs": [
    {
     "data": {
      "text/plain": "{'Surya Ganguli': ['https://ganguli-gang.stanford.edu/',\n  'https://ganguli-gang.stanford.edu/people.html',\n  'https://ganguli-gang.stanford.edu/pubs.html',\n  'https://ganguli-gang.stanford.edu/teaching.html',\n  'https://profiles.stanford.edu/surya-ganguli',\n  'https://ganguli-gang.stanford.edu/surya.html',\n  'https://en.wikipedia.org/wiki/Surya_Ganguli',\n  'https://www.simonsfoundation.org/people/surya-ganguli/'],\n 'Hal Daumé III': ['http://www.umiacs.umd.edu/~hal/',\n  'https://www.cs.umd.edu/people/hal3'],\n 'Akshat Kumar': ['https://scholarworks.umass.edu/open_access_dissertations/734/',\n  'https://www.cics.umass.edu/news/akshat-kumar-wins-icaps-2014-best-dissertation-award',\n  'http://www.mysmu.edu/faculty/akshatkumar/',\n  'https://www.aaai.org/ocs/index.php/ICAPS/ICAPS16/rt/bio/13124/0'],\n 'Alan Fern': ['https://eecs.oregonstate.edu/people/fern-alan',\n  'https://web.engr.oregonstate.edu/~afern/',\n  'https://eecs.oregonstate.edu/people/ferna-profile',\n  'http://web.engr.oregonstate.edu/~afern/coris-postdoc-scientist.html'],\n 'Deqing Sun': ['http://cs.brown.edu/~dqsun/research/',\n  'https://cs.brown.edu/people/dqsun/research/links.html',\n  'http://cs.brown.edu/~dqsun/research/software.html',\n  'http://cs.brown.edu/~dqsun/research/projects.html',\n  'http://cs.brown.edu/people/dqsun/courses.html',\n  'http://cs.brown.edu/~dqsun/research/cvpr2010-results.html',\n  'https://brown.academia.edu/DeqingSun'],\n 'J. Zico Kolter': ['https://www.cmu.edu/energy/people/alpha-list/zico-kolter.html'],\n 'Ling Huang': ['http://www.linghuang.org/',\n  'http://www.linghuang.org/rad/',\n  'https://ieeexplore.ieee.org/author/38559976700',\n  'https://ieeexplore.ieee.org/author/37085432082',\n  'https://www.usenix.org/conference/slaml10/speaker-or-organizer/ling-huang-intel-labs-berkeley',\n  'https://www.aminer.org/profile/ling-huang/53f4966fdabfaeb4c277bf33'],\n 'Martin A Zinkevich': ['http://martin.zinkevich.org/publications/resume.html',\n  'https://dl.acm.org/profile/81100579912',\n  'https://www2.cs.duke.edu/wrane/zinkevich.pptx'],\n 'Abdeslam Boularias': ['https://webprod.cs.rutgers.edu/faculty/abdeslam-boularias',\n  'http://rl.cs.rutgers.edu/abdeslam.html',\n  'https://www.aaai.org/ocs/index.php/AAAI/AAAI11/rt/bio/3510/4136',\n  'https://dl.acm.org/profile/81448593656'],\n 'Amir-massoud Farahmand': [],\n 'Paul L Ruvolo': ['https://neurotree.org/beta/publications.php?pid=114062',\n  'https://neurotree.org/beta/peopleinfo.php?pid=114062',\n  'https://www.olin.edu/faculty/profile/paul-ruvolo/'],\n 'Peter B Jones': ['https://www.csail.mit.edu/person/peter-jones',\n  'https://eng.auburn.edu/directory/jonesp1',\n  'https://www.keystonesymposia.org/KS/Online/Events/Past/Details.aspx?EventKey=2009X2&Tabs=2',\n  'https://escholarship.umassmed.edu/peterjones/'],\n 'Ulrike von Luxburg': ['https://de.wikipedia.org/wiki/Ulrike_von_Luxburg',\n  'https://www.academia-net.org/profil/prof-dr-ulrike-von-luxburg/1134095'],\n 'HongJing Lu': ['http://cvl.psych.ucla.edu/',\n  'https://www.psych.ucla.edu/faculty/page/hongjing',\n  'http://cvl.psych.ucla.edu/people.htm',\n  'https://journals.plos.org/ploscompbiol/article/authors?id=10.1371/journal.pcbi.1006613',\n  'https://www.pnas.org/content/116/10/4176.abstract'],\n 'Novi Quadrianto': [],\n 'Issei Sato': ['https://deepai.org/profile/issei-sato',\n  'https://www.aaai.org/ocs/index.php/WS/AAAIW12/rt/bio/5257/5610'],\n 'Jose G Puertas': ['https://directsourcenews.org/2021/03/17/millions-in-funds-allocated-for-the-national-guard-to-complete-permanent-work/',\n  'https://www.houstonisd.org/fonville'],\n 'David Silver': ['https://en.wikipedia.org/wiki/David_Silver_(computer_scientist)'],\n 'Mohammad J Saberian': ['http://www.svcl.ucsd.edu/people/ehsan/',\n  'http://www.svcl.ucsd.edu/projects/Rapid/',\n  'https://dl.acm.org/profile/81447603095']}"
     },
     "execution_count": 20,
     "metadata": {},
     "output_type": "execute_result"
    }
   ],
   "source": [
    "createKeyValue()"
   ]
  },
  {
   "cell_type": "code",
   "execution_count": null,
   "metadata": {},
   "outputs": [],
   "source": [
    "## im currently working on the loop to call findGender "
   ]
  }
 ],
 "metadata": {
  "kernelspec": {
   "display_name": "Python 3.8.8 64-bit ('base': conda)",
   "name": "python388jvsc74a57bd0acff08aa859ae263570361a9a438fd070c1a33f2463cc2c3f1fb761527ea2f43"
  },
  "language_info": {
   "codemirror_mode": {
    "name": "ipython",
    "version": 3
   },
   "file_extension": ".py",
   "mimetype": "text/x-python",
   "name": "python",
   "nbconvert_exporter": "python",
   "pygments_lexer": "ipython3",
   "version": "3.8.8"
  },
  "orig_nbformat": 3
 },
 "nbformat": 4,
 "nbformat_minor": 2
}