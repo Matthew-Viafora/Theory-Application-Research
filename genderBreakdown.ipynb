{
 "cells": [
  {
   "cell_type": "code",
   "execution_count": 122,
   "metadata": {},
   "outputs": [],
   "source": [
    "import pandas as pd\n",
    "# imports googlesearch to use requests and BS4 to scrape google\n",
    "from googlesearch import search\n",
    "import csv"
   ]
  },
  {
   "cell_type": "code",
   "execution_count": 123,
   "metadata": {},
   "outputs": [
    {
     "name": "stdout",
     "output_type": "stream",
     "text": [
      "<class 'pandas.core.frame.DataFrame'>\n",
      "RangeIndex: 19 entries, 0 to 18\n",
      "Data columns (total 7 columns):\n",
      " #   Column                    Non-Null Count  Dtype \n",
      "---  ------                    --------------  ----- \n",
      " 0   Unnamed: 0                19 non-null     int64 \n",
      " 1   Unnamed: 0.1              19 non-null     int64 \n",
      " 2   first-author              19 non-null     object\n",
      " 3   first-author-affiliation  19 non-null     object\n",
      " 4   last-author               19 non-null     object\n",
      " 5   last-author-affiliation   19 non-null     object\n",
      " 6   title                     19 non-null     object\n",
      "dtypes: int64(2), object(5)\n",
      "memory usage: 1.2+ KB\n"
     ]
    }
   ],
   "source": [
    "# In the future, we can improve this by being able to read in any/all the datasets\n",
    "\n",
    "# reads in the data set\n",
    "#data = pd.read_csv(r\"Affiliation_Parsing/NeurIPS affiliations/NeurIPSaffiliations-2010-affiliation.csv\")\n",
    "openfile =(r\"Affiliation_Parsing/NeurIPS affiliations gender/NeurIPS-2010/xaa.csv\")\n",
    "data = pd.read_csv(openfile)\n",
    "data.info()\n"
   ]
  },
  {
   "cell_type": "code",
   "execution_count": 124,
   "metadata": {},
   "outputs": [
    {
     "name": "stdout",
     "output_type": "stream",
     "text": [
      "<class 'pandas.core.frame.DataFrame'>\n",
      "RangeIndex: 19 entries, 0 to 18\n",
      "Data columns (total 4 columns):\n",
      " #   Column                    Non-Null Count  Dtype \n",
      "---  ------                    --------------  ----- \n",
      " 0   first-author              19 non-null     object\n",
      " 1   first-author-affiliation  19 non-null     object\n",
      " 2   last-author               19 non-null     object\n",
      " 3   last-author-affiliation   19 non-null     object\n",
      "dtypes: object(4)\n",
      "memory usage: 736.0+ bytes\n"
     ]
    }
   ],
   "source": [
    "# drops every column that is not the authors or their affiliations\n",
    "data = data.drop(data.columns[0:2], axis=1)\n",
    "data = data.drop(data.columns[4:5], axis=1)\n",
    "data.info()\n"
   ]
  },
  {
   "cell_type": "code",
   "execution_count": 125,
   "metadata": {},
   "outputs": [],
   "source": [
    "# imports BS4 libraries for webscraping\n",
    "from re import I\n",
    "import requests\n",
    "from bs4 import BeautifulSoup\n"
   ]
  },
  {
   "cell_type": "code",
   "execution_count": 126,
   "metadata": {},
   "outputs": [],
   "source": [
    "# Need to add in they/them\n",
    "# Improve search\n",
    "\n",
    "\n",
    "def findGender(urlLink):\n",
    "    gender = ''\n",
    "    ## put a url where the desciption of the author is avilable\n",
    "    \n",
    "    url = urlLink\n",
    "   \n",
    "    htmlText = requests.get(url).text\n",
    "    #print(htmlText)\n",
    "    soup = BeautifulSoup(htmlText, 'html.parser')\n",
    "    \n",
    "    \n",
    "    # gathers all the p tags from the html\n",
    "    soupstring=str(soup.find_all(\"div\")) + str(soup.find_all(\"p\"))\n",
    "    #print(soupstring)\n",
    "    shetags = [\" she.\", \" she, \",\" she \", \" She \",\"She \", \n",
    "              \" her.\", \" her, \",\" her \",\" Her \",\"Her \"\n",
    "              \" her.\",\" hers, \",\" hers \",\"Hers \",\" Hers\"\n",
    "               , \"She’s \", \" she's \" ]\n",
    "    \n",
    "    hetags = [\" he.\", \" he, \",\" he \", \" He \",\"He \", \n",
    "              \" his.\", \" his, \",\" his \",\" His \",\"His \"\n",
    "              \" him.\",\" him, \",\" him \",\" Him \", \"He’s \", \" he's \" ]\n",
    "    \n",
    "    theytags = [\" they \", \"They \", \" them \", \"Them \" ]\n",
    "\n",
    "    ##checks if male or female pronouns are present in the desciption\n",
    "\n",
    "    containsfemale = any(femalepronouns in soupstring for femalepronouns in shetags)\n",
    "    containsmale = any(malepronouns in soupstring for malepronouns in hetags)\n",
    "    containsthey = any(theypronouns in soupstring for theypronouns in theytags)\n",
    "\n",
    "    if containsfemale:\n",
    "        gender = \"female\"\n",
    "    elif containsmale:\n",
    "        \n",
    "        gender = \"male\"\n",
    "#     elif containsthey:\n",
    "#         gender = \"they/them\"\n",
    "    else:\n",
    "        gender = \"inconclusive\"\n",
    "    return  gender \n",
    "\n"
   ]
  },
  {
   "cell_type": "code",
   "execution_count": 127,
   "metadata": {},
   "outputs": [],
   "source": [
    "# returns whether or not a substring exists in a string\n",
    "def substring_exists(string, sub_string):\n",
    "    return string.find(sub_string)\n"
   ]
  },
  {
   "cell_type": "code",
   "execution_count": 128,
   "metadata": {},
   "outputs": [],
   "source": [
    "# returns a list of the first-authors\n",
    "def getFirstAuthorList():\n",
    "    for column in data[['first-author']]:\n",
    "        authors = data[column]\n",
    "\n",
    "        '''\n",
    "        Prints out column name and its values\n",
    "        '''\n",
    "        #print('Column Name: '+column)\n",
    "        # print(authors.values)\n",
    "\n",
    "    lst_authors = authors.values\n",
    "    return lst_authors\n"
   ]
  },
  {
   "cell_type": "code",
   "execution_count": 129,
   "metadata": {},
   "outputs": [],
   "source": [
    "def generateLinks():\n",
    "\n",
    "    counter = 0\n",
    "    linkArray = []\n",
    "    lst = getFirstAuthorList()\n",
    "    print(lst)\n",
    "    getAllLinks=[]\n",
    "    \n",
    "    #if we have any particular domains which we dont want to include in out searches we can input them in this list\n",
    "    unwantedLinks = [\"pdf\", \"dblp\"]\n",
    "    for person in lst:\n",
    "\n",
    "        query = person+\" \" + data['first-author-affiliation'].values[counter]+\" .edu\"\n",
    "        #print(query)\n",
    "        for link in search(query, num=10, stop=10):\n",
    "            # appends .edu and .org links into the array\n",
    "            if(substring_exists(link, \".edu\") != -1 or substring_exists(link, \".org\") != -1 ):\n",
    "                #checks if each link contains anything from the list of unwanted list\n",
    "                containsUnwanted = any(elements in link for elements in unwantedLinks)\n",
    "                if(containsUnwanted == False):\n",
    "                    linkArray.append(link)\n",
    "\n",
    "  \n",
    "        getAllLinks.append(linkArray)\n",
    "        linkArray=[]\n",
    "        counter += 1\n",
    "\n",
    "        with open('newCSV.csv', 'w') as file:\n",
    "            write = csv.writer(file)\n",
    "            write.writerow([\"Author Links\"])\n",
    "            for val in getAllLinks:\n",
    "                write.writerow([val])\n",
    "        with open('newCSV.csv','r') as file1, open(openfile,'r') as file2,open('combined.csv', 'w') as result:\n",
    "            file1reader = csv.reader(file1)\n",
    "            file2reader = csv.reader(file2)\n",
    "            result = csv.writer(result)\n",
    "            result.writerows(x + y for x, y in zip(file2reader,file1reader))\n",
    "\n",
    "        "
   ]
  },
  {
   "cell_type": "code",
   "execution_count": 136,
   "metadata": {},
   "outputs": [],
   "source": [
    "\n",
    "def firstAuthorGenderAuthor():\n",
    "\n",
    "    fileNew = open(\"combined.csv\", \"r\")\n",
    "\n",
    "   \n",
    "    update = []\n",
    "    reader = csv.DictReader(fileNew)\n",
    "\n",
    "    for rowVal in reader:\n",
    "        for x in [rowVal[\"Author Links\"]]:\n",
    "            authorList = x.split(\"'\")\n",
    "            authorList = list(filter(('[').__ne__, authorList))\n",
    "            authorList = list(filter((\", \").__ne__, authorList))\n",
    "            authorList = list(filter((\"]\").__ne__, authorList))\n",
    "            print(authorList)\n",
    "            for link in authorList:\n",
    "                if (link == '[]'):\n",
    "                    break\n",
    "                print('THE LINK: '+ link)\n",
    "                finalGender = findGender(link)\n",
    "                if(finalGender == 'male' or finalGender == 'female'):\n",
    "                    break\n",
    "        row = {\"first-author\": rowVal[\"first-author\"],\"first-author-affiliation\":rowVal[\"first-author-affiliation\"],\"Gender\": finalGender}\n",
    "        update.append(row)\n",
    "    fileNew.close()\n",
    "    op = open(\"xaaFinal.csv\", \"w\", newline='')\n",
    "    headers = ['first-author', 'first-author-affiliation', 'Gender']\n",
    "    data = csv.DictWriter(op, delimiter=',', fieldnames=headers)\n",
    "    data.writerow(dict((heads, heads) for heads in headers))\n",
    "    data.writerows(update)\n",
    "    op.close()\n",
    "    \n",
    "\n",
    "    "
   ]
  },
  {
   "cell_type": "code",
   "execution_count": 131,
   "metadata": {},
   "outputs": [
    {
     "name": "stdout",
     "output_type": "stream",
     "text": [
      "['Surya Ganguli' 'Hal Daumé III' 'Akshat Kumar' 'Alan Fern' 'Deqing Sun'\n",
      " 'J. Zico Kolter' 'Ling Huang' 'Martin A Zinkevich' 'Abdeslam Boularias'\n",
      " 'Amir-massoud Farahmand' 'Paul L Ruvolo' 'Peter B Jones'\n",
      " 'Ulrike von Luxburg' 'HongJing Lu' 'Novi Quadrianto' 'Issei Sato'\n",
      " 'Jose G Puertas' 'David Silver' 'Mohammad J Saberian']\n"
     ]
    }
   ],
   "source": [
    "generateLinks()"
   ]
  },
  {
   "cell_type": "code",
   "execution_count": 138,
   "metadata": {},
   "outputs": [
    {
     "name": "stdout",
     "output_type": "stream",
     "text": [
      "['https://ganguli-gang.stanford.edu/', 'https://ganguli-gang.stanford.edu/people.html', 'https://ganguli-gang.stanford.edu/pubs.html', 'https://ganguli-gang.stanford.edu/teaching.html', 'https://ganguli-gang.stanford.edu/surya.html', 'https://profiles.stanford.edu/surya-ganguli', 'https://en.wikipedia.org/wiki/Surya_Ganguli', 'https://www.simonsfoundation.org/people/surya-ganguli/']\n",
      "THE LINK: https://ganguli-gang.stanford.edu/\n",
      "THE LINK: https://ganguli-gang.stanford.edu/people.html\n",
      "THE LINK: https://ganguli-gang.stanford.edu/pubs.html\n",
      "THE LINK: https://ganguli-gang.stanford.edu/teaching.html\n",
      "THE LINK: https://ganguli-gang.stanford.edu/surya.html\n",
      "THE LINK: https://profiles.stanford.edu/surya-ganguli\n",
      "THE LINK: https://en.wikipedia.org/wiki/Surya_Ganguli\n",
      "['http://www.umiacs.umd.edu/~hal/', 'https://www.cs.umd.edu/people/hal3']\n",
      "THE LINK: http://www.umiacs.umd.edu/~hal/\n",
      "['https://scholarworks.umass.edu/open_access_dissertations/734/', 'https://www.cics.umass.edu/news/akshat-kumar-wins-icaps-2014-best-dissertation-award', 'http://www.mysmu.edu/faculty/akshatkumar/', 'https://www.aaai.org/ocs/index.php/ICAPS/ICAPS16/rt/bio/13124/0', 'https://www.eurekalert.org/pub_releases/2018-06/smu-spr061418.php']\n",
      "THE LINK: https://scholarworks.umass.edu/open_access_dissertations/734/\n",
      "THE LINK: https://www.cics.umass.edu/news/akshat-kumar-wins-icaps-2014-best-dissertation-award\n",
      "['https://eecs.oregonstate.edu/people/fern-alan', 'https://web.engr.oregonstate.edu/~afern/', 'https://eecs.oregonstate.edu/people/ferna-profile', 'http://web.engr.oregonstate.edu/~afern/coris-postdoc-scientist.html']\n",
      "THE LINK: https://eecs.oregonstate.edu/people/fern-alan\n",
      "['http://cs.brown.edu/~dqsun/research/', 'http://cs.brown.edu/~dqsun/research/software.html', 'http://cs.brown.edu/~dqsun/research/links.html', 'http://cs.brown.edu/~dqsun/research/projects.html', 'http://cs.brown.edu/people/dqsun/courses.html', 'http://cs.brown.edu/~dqsun/research/cvpr2010-results.html', 'https://brown.academia.edu/DeqingSun']\n",
      "THE LINK: http://cs.brown.edu/~dqsun/research/\n",
      "THE LINK: http://cs.brown.edu/~dqsun/research/software.html\n",
      "THE LINK: http://cs.brown.edu/~dqsun/research/links.html\n",
      "THE LINK: http://cs.brown.edu/~dqsun/research/projects.html\n",
      "THE LINK: http://cs.brown.edu/people/dqsun/courses.html\n",
      "THE LINK: http://cs.brown.edu/~dqsun/research/cvpr2010-results.html\n",
      "THE LINK: https://brown.academia.edu/DeqingSun\n",
      "['https://ieeexplore.ieee.org/author/37546513600']\n",
      "THE LINK: https://ieeexplore.ieee.org/author/37546513600\n",
      "['http://www.linghuang.org/', 'http://www.linghuang.org/rad/', 'https://ieeexplore.ieee.org/author/38559976700', 'https://ieeexplore.ieee.org/author/37085432082', 'https://www.usenix.org/conference/slaml10/speaker-or-organizer/ling-huang-intel-labs-berkeley', 'https://dl.acm.org/doi/10.1145/2046684.2046692']\n",
      "THE LINK: http://www.linghuang.org/\n",
      "THE LINK: http://www.linghuang.org/rad/\n",
      "THE LINK: https://ieeexplore.ieee.org/author/38559976700\n",
      "THE LINK: https://ieeexplore.ieee.org/author/37085432082\n",
      "THE LINK: https://www.usenix.org/conference/slaml10/speaker-or-organizer/ling-huang-intel-labs-berkeley\n",
      "THE LINK: https://dl.acm.org/doi/10.1145/2046684.2046692\n",
      "['http://martin.zinkevich.org/publications/resume.html', 'https://dl.acm.org/profile/81100579912']\n",
      "THE LINK: http://martin.zinkevich.org/publications/resume.html\n",
      "THE LINK: https://dl.acm.org/profile/81100579912\n",
      "['[]']\n",
      "['[]']\n",
      "['https://neurotree.org/beta/publications.php?pid=114062', 'https://www.olin.edu/faculty/profile/paul-ruvolo/', 'https://loop.frontiersin.org/people/465519/overview']\n",
      "THE LINK: https://neurotree.org/beta/publications.php?pid=114062\n",
      "THE LINK: https://www.olin.edu/faculty/profile/paul-ruvolo/\n",
      "['https://www.csail.mit.edu/person/peter-jones', 'https://eng.auburn.edu/directory/jonesp1', 'https://www.keystonesymposia.org/KS/Online/Events/Past/Details.aspx?EventKey=2009X1&Tabs=2']\n",
      "THE LINK: https://www.csail.mit.edu/person/peter-jones\n",
      "THE LINK: https://eng.auburn.edu/directory/jonesp1\n",
      "THE LINK: https://www.keystonesymposia.org/KS/Online/Events/Past/Details.aspx?EventKey=2009X1&Tabs=2\n",
      "['https://www.academia-net.org/profil/prof-dr-ulrike-von-luxburg/1134095']\n",
      "THE LINK: https://www.academia-net.org/profil/prof-dr-ulrike-von-luxburg/1134095\n",
      "['http://cvl.psych.ucla.edu/', 'https://www.psych.ucla.edu/faculty/page/hongjing', 'http://cvl.psych.ucla.edu/people.htm', 'https://journals.plos.org/ploscompbiol/article/authors?id=10.1371/journal.pcbi.1006613', 'https://www.pnas.org/content/116/10/4176.abstract']\n",
      "THE LINK: http://cvl.psych.ucla.edu/\n",
      "THE LINK: https://www.psych.ucla.edu/faculty/page/hongjing\n",
      "THE LINK: http://cvl.psych.ucla.edu/people.htm\n",
      "THE LINK: https://journals.plos.org/ploscompbiol/article/authors?id=10.1371/journal.pcbi.1006613\n",
      "THE LINK: https://www.pnas.org/content/116/10/4176.abstract\n",
      "['[]']\n",
      "['https://deepai.org/profile/issei-sato', 'https://biography.omicsonline.org/japan/university-of-tokyo/sato-issei-208235']\n",
      "THE LINK: https://deepai.org/profile/issei-sato\n",
      "THE LINK: https://biography.omicsonline.org/japan/university-of-tokyo/sato-issei-208235\n",
      "['https://ui.adsabs.harvard.edu/abs/2021ER....201k1574D/abstract', 'https://directsourcenews.org/2021/03/17/millions-in-funds-allocated-for-the-national-guard-to-complete-permanent-work/']\n",
      "THE LINK: https://ui.adsabs.harvard.edu/abs/2021ER....201k1574D/abstract\n",
      "THE LINK: https://directsourcenews.org/2021/03/17/millions-in-funds-allocated-for-the-national-guard-to-complete-permanent-work/\n",
      "['https://en.wikipedia.org/wiki/David_Silver_(computer_scientist)']\n",
      "THE LINK: https://en.wikipedia.org/wiki/David_Silver_(computer_scientist)\n",
      "['http://www.svcl.ucsd.edu/people/ehsan/', 'http://www.svcl.ucsd.edu/projects/Rapid/', 'https://dl.acm.org/profile/81447603095']\n",
      "THE LINK: http://www.svcl.ucsd.edu/people/ehsan/\n",
      "THE LINK: http://www.svcl.ucsd.edu/projects/Rapid/\n",
      "THE LINK: https://dl.acm.org/profile/81447603095\n"
     ]
    }
   ],
   "source": [
    "firstAuthorGender()"
   ]
  }
 ],
 "metadata": {
  "kernelspec": {
   "display_name": "Python 3.8.8 64-bit ('base': conda)",
   "name": "python388jvsc74a57bd0acff08aa859ae263570361a9a438fd070c1a33f2463cc2c3f1fb761527ea2f43"
  },
  "language_info": {
   "codemirror_mode": {
    "name": "ipython",
    "version": 3
   },
   "file_extension": ".py",
   "mimetype": "text/x-python",
   "name": "python",
   "nbconvert_exporter": "python",
   "pygments_lexer": "ipython3",
   "version": "3.8.8"
  },
  "orig_nbformat": 3
 },
 "nbformat": 4,
 "nbformat_minor": 2
}