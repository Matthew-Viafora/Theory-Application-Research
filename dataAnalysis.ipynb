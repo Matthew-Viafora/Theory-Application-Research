{
 "cells": [
  {
   "cell_type": "markdown",
   "id": "cedc70af",
   "metadata": {},
   "source": [
    "# CSV Dataset Analysis\n",
    "\n",
    "- The objective of this file is to identify glaring problems of the csv datasets pulled from the NeurIPS, IJCAI, MLCH, ICML, and AAAI XML conferences from 2010-2020\n",
    "- If possible, this file will look into cleaning harmful/missing data as well as supplement gender and author affiliation via truncating the dataset to pull relevant information and insights"
   ]
  },
  {
   "cell_type": "code",
   "execution_count": 4,
   "id": "6bd0acb0",
   "metadata": {},
   "outputs": [],
   "source": [
    "import pandas as pd"
   ]
  },
  {
   "cell_type": "markdown",
   "id": "bde3ecfe",
   "metadata": {},
   "source": [
    "## Neur-IPS\n",
    "\n",
    "- Below is a preview of a couple of columns we'll work with from the Neur-IPS dataset:\n",
    "    - first-author: The name of the first author of the paper\n",
    "    - last-author: The name of the last author written of the same paper\n",
    "    - paper-url: The link to the paper\n",
    "    - DBLP-url: The link to the DBLP page that hosts all of the papers that which we are pulling the data from"
   ]
  },
  {
   "cell_type": "code",
   "execution_count": 16,
   "id": "96de0f15",
   "metadata": {},
   "outputs": [
    {
     "output_type": "stream",
     "name": "stdout",
     "text": [
      "      Unnamed: 0  year      first-author          last-author  \\\n0              0  2017     Sheng Li 0001          Yun Fu 0001   \n1              1  2017    Jiajun Wu 0001  Josh Tenenbaum 0001   \n2              2  2017      Rong Ge 0001            Tengyu Ma   \n3              3  2017    Ziyu Wang 0001        Nicolas Heess   \n4              4  2017      Ping Li 0001       Martin Slawski   \n...          ...   ...               ...                  ...   \n6393        6393  2010     Yu Zhang 0006              Qian Xu   \n6394        6394  2010  Hongbo Zhou 0001          Qiang Cheng   \n6395        6395  2010      Jun Zhu 0001         Eric P. Xing   \n6396        6396  2010  Martin Zinkevich       Lihong Li 0001   \n6397        6397  2010  John D. Lafferty         Aron Culotta   \n\n     journal/conference                                              title  \\\n0                  NIPS  Matching on Balanced Nonlinear Representations...   \n1                  NIPS   Learning to See Physics via Visual De-animation.   \n2                  NIPS  On the Optimization Landscape of Tensor Decomp...   \n3                  NIPS             Robust Imitation of Diverse Behaviors.   \n4                  NIPS  Simple strategies for recovering inner product...   \n...                 ...                                                ...   \n6393               NIPS        Probabilistic Multi-Task Feature Selection.   \n6394               NIPS  Sufficient Conditions for Generating Group Lev...   \n6395               NIPS  Large Margin Learning of Upstream Scene Unders...   \n6396               NIPS          Parallelized Stochastic Gradient Descent.   \n6397               NIPS  Advances in Neural Information Processing Syst...   \n\n      number-of-authors                                          paper-url  \\\n0                     2  https://proceedings.neurips.cc/paper/2017/hash...   \n1                     5  https://proceedings.neurips.cc/paper/2017/hash...   \n2                     2  https://proceedings.neurips.cc/paper/2017/hash...   \n3                     6  https://proceedings.neurips.cc/paper/2017/hash...   \n4                     2  https://proceedings.neurips.cc/paper/2017/hash...   \n...                 ...                                                ...   \n6393                  3  https://proceedings.neurips.cc/paper/2010/hash...   \n6394                  2  https://proceedings.neurips.cc/paper/2010/hash...   \n6395                  4  https://proceedings.neurips.cc/paper/2010/hash...   \n6396                  4  https://proceedings.neurips.cc/paper/2010/hash...   \n6397                  5          https://proceedings.neurips.cc/paper/2010   \n\n                                           DBLP-url  \n0            https://dblp.org/rec/conf/nips/0001F17  \n1         https://dblp.org/rec/conf/nips/0001LKFT17  \n2            https://dblp.org/rec/conf/nips/0001M17  \n3        https://dblp.org/rec/conf/nips/0001MRFWH17  \n4            https://dblp.org/rec/conf/nips/0001S17  \n...                                             ...  \n6393       https://dblp.org/rec/conf/nips/ZhangYX10  \n6394         https://dblp.org/rec/conf/nips/ZhouC10  \n6395        https://dblp.org/rec/conf/nips/ZhuLLX10  \n6396  https://dblp.org/rec/conf/nips/ZinkevichWSL10  \n6397            https://dblp.org/rec/conf/nips/2010  \n\n[6398 rows x 9 columns]\n"
     ]
    }
   ],
   "source": [
    "data_Neur_IPS = pd.read_csv(r\"Output-CSVs\\NeurIPS-XML-output.csv\")\n",
    "print(data_Neur_IPS)"
   ]
  },
  {
   "cell_type": "markdown",
   "id": "3d9fca24",
   "metadata": {},
   "source": [
    "### Problem 1: paper-url\n",
    "\n",
    "From face value, we already can see an issue with the paper-url(s). It looks to be that every paper besides the last (6398th) are invalid due to the structure of the link. Unlike that of the functioning last link, the previous paper-urls contain an additional \"/hash\" that leads to an unfound page."
   ]
  },
  {
   "cell_type": "code",
   "execution_count": 17,
   "id": "26b064a5",
   "metadata": {},
   "outputs": [
    {
     "output_type": "stream",
     "name": "stdout",
     "text": [
      "<class 'pandas.core.frame.DataFrame'>\nRangeIndex: 6398 entries, 0 to 6397\nData columns (total 9 columns):\n #   Column              Non-Null Count  Dtype \n---  ------              --------------  ----- \n 0   Unnamed: 0          6398 non-null   int64 \n 1   year                6398 non-null   int64 \n 2   first-author        6398 non-null   object\n 3   last-author         6398 non-null   object\n 4   journal/conference  6397 non-null   object\n 5   title               6398 non-null   object\n 6   number-of-authors   6398 non-null   int64 \n 7   paper-url           6398 non-null   object\n 8   DBLP-url            6398 non-null   object\ndtypes: int64(3), object(6)\nmemory usage: 450.0+ KB\n"
     ]
    }
   ],
   "source": [
    "data_Neur_IPS.info()"
   ]
  },
  {
   "cell_type": "markdown",
   "id": "f3fc2045",
   "metadata": {},
   "source": [
    "### Missing Data\n",
    "\n",
    "In the case of Neur-IPS, we only have one missing value out of the 6398 rows. We can disregard this missing item since it belongs to \"journal/conference\", and we already know that it is from Neur-IPS (confirmed in it's affiliated urls)."
   ]
  },
  {
   "cell_type": "code",
   "execution_count": 18,
   "id": "fba24d18",
   "metadata": {},
   "outputs": [
    {
     "output_type": "stream",
     "name": "stdout",
     "text": [
      "     Unnamed: 0  year    first-author    last-author journal/conference  \\\n679         679  2017  Isabelle Guyon  Roman Garnett                NaN   \n\n                                                 title  number-of-authors  \\\n679  Advances in Neural Information Processing Syst...                  7   \n\n                                     paper-url  \\\n679  https://proceedings.neurips.cc/paper/2017   \n\n                                DBLP-url  \n679  https://dblp.org/rec/conf/nips/2017  \n"
     ]
    }
   ],
   "source": [
    "print(data_Neur_IPS[data_Neur_IPS.isna().any(axis=1)])"
   ]
  },
  {
   "cell_type": "markdown",
   "id": "d995ec15",
   "metadata": {},
   "source": [
    "### Filtering Data Pt. 1\n",
    "\n",
    "We are mainly focused on certain rows/columns, so we will filter out the data that is not the first/last author, paper-url, and/or DBLP-url"
   ]
  },
  {
   "cell_type": "code",
   "execution_count": 20,
   "id": "7aa744f5",
   "metadata": {},
   "outputs": [
    {
     "output_type": "stream",
     "name": "stdout",
     "text": [
      "<class 'pandas.core.frame.DataFrame'>\nRangeIndex: 6398 entries, 0 to 6397\nData columns (total 4 columns):\n #   Column        Non-Null Count  Dtype \n---  ------        --------------  ----- \n 0   first-author  6398 non-null   object\n 1   last-author   6398 non-null   object\n 2   paper-url     6398 non-null   object\n 3   DBLP-url      6398 non-null   object\ndtypes: object(4)\nmemory usage: 200.1+ KB\nNone\n"
     ]
    }
   ],
   "source": [
    "data_Neur_IPS_updated = data_Neur_IPS.drop(data_Neur_IPS.columns[4:7],axis=1)\n",
    "data_Neur_IPS_updated = data_Neur_IPS_updated.drop(data_Neur_IPS_updated.columns[0:2],axis=1)\n",
    "print(data_Neur_IPS_updated.info())"
   ]
  },
  {
   "cell_type": "code",
   "execution_count": 21,
   "id": "5ecbc577",
   "metadata": {},
   "outputs": [
    {
     "output_type": "stream",
     "name": "stdout",
     "text": [
      "          first-author          last-author  \\\n0        Sheng Li 0001          Yun Fu 0001   \n1       Jiajun Wu 0001  Josh Tenenbaum 0001   \n2         Rong Ge 0001            Tengyu Ma   \n3       Ziyu Wang 0001        Nicolas Heess   \n4         Ping Li 0001       Martin Slawski   \n...                ...                  ...   \n6393     Yu Zhang 0006              Qian Xu   \n6394  Hongbo Zhou 0001          Qiang Cheng   \n6395      Jun Zhu 0001         Eric P. Xing   \n6396  Martin Zinkevich       Lihong Li 0001   \n6397  John D. Lafferty         Aron Culotta   \n\n                                              paper-url  \\\n0     https://proceedings.neurips.cc/paper/2017/hash...   \n1     https://proceedings.neurips.cc/paper/2017/hash...   \n2     https://proceedings.neurips.cc/paper/2017/hash...   \n3     https://proceedings.neurips.cc/paper/2017/hash...   \n4     https://proceedings.neurips.cc/paper/2017/hash...   \n...                                                 ...   \n6393  https://proceedings.neurips.cc/paper/2010/hash...   \n6394  https://proceedings.neurips.cc/paper/2010/hash...   \n6395  https://proceedings.neurips.cc/paper/2010/hash...   \n6396  https://proceedings.neurips.cc/paper/2010/hash...   \n6397          https://proceedings.neurips.cc/paper/2010   \n\n                                           DBLP-url  \n0            https://dblp.org/rec/conf/nips/0001F17  \n1         https://dblp.org/rec/conf/nips/0001LKFT17  \n2            https://dblp.org/rec/conf/nips/0001M17  \n3        https://dblp.org/rec/conf/nips/0001MRFWH17  \n4            https://dblp.org/rec/conf/nips/0001S17  \n...                                             ...  \n6393       https://dblp.org/rec/conf/nips/ZhangYX10  \n6394         https://dblp.org/rec/conf/nips/ZhouC10  \n6395        https://dblp.org/rec/conf/nips/ZhuLLX10  \n6396  https://dblp.org/rec/conf/nips/ZinkevichWSL10  \n6397            https://dblp.org/rec/conf/nips/2010  \n\n[6398 rows x 4 columns]\n"
     ]
    }
   ],
   "source": [
    "print(data_Neur_IPS_updated)"
   ]
  },
  {
   "cell_type": "markdown",
   "id": "93a56d09",
   "metadata": {},
   "source": [
    "### Note about author labeling:\n",
    "\n",
    "Taking just three random examples from the dataset, we see that the labels of the author can be misleading. For example, it may originally be inferred that an additional numerical value (i.e. 0001) attached alongside an author's name means that the author has posted multiple works in this conference. Since this data is strictly pulled from this conference, it is unlikely to assume the possibility that these numbers include the papers the author may have passed in other conferences.\n",
    "\n",
    "In the following cell, we have checked and printed all the sequences where the author's name was found, whether they were first author on the paper or the last. We check through each possibility, whether it's an author with no numerical value attached to their name, one with a value of 0001, or one greater than the former.\n",
    "\n",
    "The first test case of author \"Martin Zinkevich\" demonstrates that although he has no numerical value attached to his name, that he appears in multiple papers. This eliminates the other possibility that authors may have their name written in between other authors of other papers. Even if that were the case, then we at least know that it doesn't influence the number next to their name."
   ]
  },
  {
   "cell_type": "code",
   "execution_count": 22,
   "id": "8e433c88",
   "metadata": {},
   "outputs": [
    {
     "output_type": "stream",
     "name": "stdout",
     "text": [
      "          first-author     last-author  \\\n6396  Martin Zinkevich  Lihong Li 0001   \n\n                                              paper-url  \\\n6396  https://proceedings.neurips.cc/paper/2010/hash...   \n\n                                           DBLP-url  \n6396  https://dblp.org/rec/conf/nips/ZinkevichWSL10  \n         first-author       last-author  \\\n4876  Dale Schuurmans  Martin Zinkevich   \n\n                                              paper-url  \\\n4876  https://proceedings.neurips.cc/paper/2016/hash...   \n\n                                          DBLP-url  \n4876  https://dblp.org/rec/conf/nips/SchuurmansZ16  \n    first-author  last-author  \\\n0  Sheng Li 0001  Yun Fu 0001   \n\n                                           paper-url  \\\n0  https://proceedings.neurips.cc/paper/2017/hash...   \n\n                                 DBLP-url  \n0  https://dblp.org/rec/conf/nips/0001F17  \nEmpty DataFrame\nColumns: [first-author, last-author, paper-url, DBLP-url]\nIndex: []\n       first-author      last-author  \\\n1653  Yu Zhang 0006  Qiang Yang 0001   \n4024       Yu Zhang         Yu Zhang   \n6392  Yu Zhang 0006    Dit-Yan Yeung   \n6393  Yu Zhang 0006          Qian Xu   \n\n                                              paper-url  \\\n1653  https://proceedings.neurips.cc/paper/2018/hash...   \n4024  https://proceedings.neurips.cc/paper/2013/hash...   \n6392  https://proceedings.neurips.cc/paper/2010/hash...   \n6393  https://proceedings.neurips.cc/paper/2010/hash...   \n\n                                      DBLP-url  \n1653  https://dblp.org/rec/conf/nips/ZhangWY18  \n4024    https://dblp.org/rec/conf/nips/Zhang13  \n6392   https://dblp.org/rec/conf/nips/ZhangY10  \n6393  https://dblp.org/rec/conf/nips/ZhangYX10  \n     first-author last-author  \\\n4024     Yu Zhang    Yu Zhang   \n\n                                              paper-url  \\\n4024  https://proceedings.neurips.cc/paper/2013/hash...   \n\n                                    DBLP-url  \n4024  https://dblp.org/rec/conf/nips/Zhang13  \n"
     ]
    }
   ],
   "source": [
    "#test to check author with no numerical value\n",
    "print(data_Neur_IPS_updated[data_Neur_IPS_updated['first-author'].astype(str).str.contains('Martin Zinkevich')])\n",
    "print(data_Neur_IPS_updated[data_Neur_IPS_updated['last-author'].astype(str).str.contains('Martin Zinkevich')])\n",
    "\n",
    "#test to check author with numerical value of 0001\n",
    "print(data_Neur_IPS_updated[data_Neur_IPS_updated['first-author'].astype(str).str.contains('Sheng Li')])\n",
    "print(data_Neur_IPS_updated[data_Neur_IPS_updated['last-author'].astype(str).str.contains('Sheng Li')])\n",
    "\n",
    "#test to check author with numerical value greater than 0001\n",
    "print(data_Neur_IPS_updated[data_Neur_IPS_updated['first-author'].astype(str).str.contains('Yu Zhang')])\n",
    "print(data_Neur_IPS_updated[data_Neur_IPS_updated['last-author'].astype(str).str.contains('Yu Zhang')])"
   ]
  },
  {
   "cell_type": "markdown",
   "id": "8f3ee544",
   "metadata": {},
   "source": [
    "## Gender Identifier\n",
    "\n",
    "Given the current data, we will implement a web-scraping scipt that will return the gender (male/female) of every author in the first-author/last-author columns of the dataset."
   ]
  },
  {
   "cell_type": "code",
   "execution_count": 23,
   "metadata": {},
   "outputs": [],
   "source": [
    "from re import I\n",
    "import requests\n",
    "from bs4 import BeautifulSoup"
   ]
  },
  {
   "cell_type": "code",
   "execution_count": 24,
   "metadata": {},
   "outputs": [
    {
     "output_type": "execute_result",
     "data": {
      "text/plain": [
       "     first-author          last-author  \\\n",
       "0   Sheng Li 0001          Yun Fu 0001   \n",
       "1  Jiajun Wu 0001  Josh Tenenbaum 0001   \n",
       "2    Rong Ge 0001            Tengyu Ma   \n",
       "3  Ziyu Wang 0001        Nicolas Heess   \n",
       "4    Ping Li 0001       Martin Slawski   \n",
       "\n",
       "                                           paper-url  \\\n",
       "0  https://proceedings.neurips.cc/paper/2017/hash...   \n",
       "1  https://proceedings.neurips.cc/paper/2017/hash...   \n",
       "2  https://proceedings.neurips.cc/paper/2017/hash...   \n",
       "3  https://proceedings.neurips.cc/paper/2017/hash...   \n",
       "4  https://proceedings.neurips.cc/paper/2017/hash...   \n",
       "\n",
       "                                     DBLP-url  \n",
       "0      https://dblp.org/rec/conf/nips/0001F17  \n",
       "1   https://dblp.org/rec/conf/nips/0001LKFT17  \n",
       "2      https://dblp.org/rec/conf/nips/0001M17  \n",
       "3  https://dblp.org/rec/conf/nips/0001MRFWH17  \n",
       "4      https://dblp.org/rec/conf/nips/0001S17  "
      ],
      "text/html": "<div>\n<style scoped>\n    .dataframe tbody tr th:only-of-type {\n        vertical-align: middle;\n    }\n\n    .dataframe tbody tr th {\n        vertical-align: top;\n    }\n\n    .dataframe thead th {\n        text-align: right;\n    }\n</style>\n<table border=\"1\" class=\"dataframe\">\n  <thead>\n    <tr style=\"text-align: right;\">\n      <th></th>\n      <th>first-author</th>\n      <th>last-author</th>\n      <th>paper-url</th>\n      <th>DBLP-url</th>\n    </tr>\n  </thead>\n  <tbody>\n    <tr>\n      <th>0</th>\n      <td>Sheng Li 0001</td>\n      <td>Yun Fu 0001</td>\n      <td>https://proceedings.neurips.cc/paper/2017/hash...</td>\n      <td>https://dblp.org/rec/conf/nips/0001F17</td>\n    </tr>\n    <tr>\n      <th>1</th>\n      <td>Jiajun Wu 0001</td>\n      <td>Josh Tenenbaum 0001</td>\n      <td>https://proceedings.neurips.cc/paper/2017/hash...</td>\n      <td>https://dblp.org/rec/conf/nips/0001LKFT17</td>\n    </tr>\n    <tr>\n      <th>2</th>\n      <td>Rong Ge 0001</td>\n      <td>Tengyu Ma</td>\n      <td>https://proceedings.neurips.cc/paper/2017/hash...</td>\n      <td>https://dblp.org/rec/conf/nips/0001M17</td>\n    </tr>\n    <tr>\n      <th>3</th>\n      <td>Ziyu Wang 0001</td>\n      <td>Nicolas Heess</td>\n      <td>https://proceedings.neurips.cc/paper/2017/hash...</td>\n      <td>https://dblp.org/rec/conf/nips/0001MRFWH17</td>\n    </tr>\n    <tr>\n      <th>4</th>\n      <td>Ping Li 0001</td>\n      <td>Martin Slawski</td>\n      <td>https://proceedings.neurips.cc/paper/2017/hash...</td>\n      <td>https://dblp.org/rec/conf/nips/0001S17</td>\n    </tr>\n  </tbody>\n</table>\n</div>"
     },
     "metadata": {},
     "execution_count": 24
    }
   ],
   "source": [
    "data_Neur_IPS_updated.head()"
   ]
  },
  {
   "cell_type": "code",
   "execution_count": 38,
   "metadata": {},
   "outputs": [],
   "source": [
    "from googlesearch import search\n",
    "import pandas as pd"
   ]
  },
  {
   "cell_type": "code",
   "execution_count": 39,
   "metadata": {},
   "outputs": [],
   "source": [
    "def findGender(urlLink):\n",
    "    gender = ''\n",
    "    ## put a url where the desciption of the author is avilable\n",
    "    url = urlLink\n",
    "    htmlText = requests.get(url).text\n",
    "    soup = BeautifulSoup(htmlText, 'html.parser')\n",
    "\n",
    "\n",
    "    # gathers all the p tags from the html\n",
    "    soupstring = str(soup.find_all(\"p\"))\n",
    "    shetags = [\" she \", \" She \",\" her \", \" Her \",\" hers \",\" Hers \"]\n",
    "    hetags = [\" he \", \" He \",\" his \", \" His \",\" him \",\" Him \"]\n",
    "\n",
    "    ##checks if male or female pronouns are present in the desciption\n",
    "    containsfemale = any(femalepronouns in soupstring for femalepronouns in shetags)\n",
    "    containsmale = any(malepronouns in soupstring for malepronouns in hetags)\n",
    "\n",
    "    if containsfemale:\n",
    "        gender = \"female\"\n",
    "    else:\n",
    "        gender = \"male\"\n",
    "    return gender"
   ]
  },
  {
   "cell_type": "code",
   "execution_count": 44,
   "metadata": {},
   "outputs": [],
   "source": [
    "#Questions:\n",
    "#should we make it like a dictionary instead?\n",
    "#are we just focused on gender breakdown or should we also include who is what gender while we do it\n",
    "\n",
    "def genderBreakdown():\n",
    "    Neur_IPS_male_authors = 0\n",
    "    Neur_IPS_female_authors = 0\n",
    "\n",
    "    #iterates through all the authors in the dataset\n",
    "    for col in data_Neur_IPS_updated[['first-author', 'last-author']]:\n",
    "        colObj = data_Neur_IPS_updated[col]\n",
    "        print('Column Name : ', col)\n",
    "        print(colObj.values)\n",
    "\n",
    "        #goes through Google to find links related to that authors name\n",
    "        lst_authors = colObj.values\n",
    "        for item in lst_authors:\n",
    "            query=item\n",
    "            #gets around 10 links for each author, then sends it to the helper function to determine the gender of that author\n",
    "            for j in search(query, num_results=10):\n",
    "                print('test')\n",
    "                if findGender(j)==\"male\":\n",
    "                    Neur_IPS_male_authors+=1\n",
    "                    break\n",
    "                else:\n",
    "                    Neur_IPS_female_authors+=1\n",
    "                    break\n",
    "    return Neur_IPS_male_authors, Neur_IPS_female_authors"
   ]
  },
  {
   "cell_type": "code",
   "execution_count": 43,
   "metadata": {},
   "outputs": [
    {
     "output_type": "stream",
     "name": "stdout",
     "text": [
      "Column Name :  first-author\n['Sheng Li 0001' 'Jiajun Wu 0001' 'Rong Ge 0001' ... 'Jun Zhu 0001'\n 'Martin Zinkevich' 'John D. Lafferty']\n"
     ]
    },
    {
     "output_type": "error",
     "ename": "TypeError",
     "evalue": "search() got an unexpected keyword argument 'num'",
     "traceback": [
      "\u001b[1;31m---------------------------------------------------------------------------\u001b[0m",
      "\u001b[1;31mTypeError\u001b[0m                                 Traceback (most recent call last)",
      "\u001b[1;32m<ipython-input-43-8e586487411a>\u001b[0m in \u001b[0;36m<module>\u001b[1;34m\u001b[0m\n\u001b[0;32m      1\u001b[0m \u001b[1;31m#need to verify results still, but it's too slow anyways. I ended up having to close the program.\u001b[0m\u001b[1;33m\u001b[0m\u001b[1;33m\u001b[0m\u001b[1;33m\u001b[0m\u001b[0m\n\u001b[1;32m----> 2\u001b[1;33m \u001b[0mgenderBreakdown\u001b[0m\u001b[1;33m(\u001b[0m\u001b[1;33m)\u001b[0m\u001b[1;33m\u001b[0m\u001b[1;33m\u001b[0m\u001b[0m\n\u001b[0m",
      "\u001b[1;32m<ipython-input-42-9687a991f389>\u001b[0m in \u001b[0;36mgenderBreakdown\u001b[1;34m()\u001b[0m\n\u001b[0;32m     18\u001b[0m             \u001b[0mquery\u001b[0m\u001b[1;33m=\u001b[0m\u001b[0mitem\u001b[0m\u001b[1;33m\u001b[0m\u001b[1;33m\u001b[0m\u001b[0m\n\u001b[0;32m     19\u001b[0m             \u001b[1;31m#gets around 10 links for each author, then sends it to the helper function to determine the gender of that author\u001b[0m\u001b[1;33m\u001b[0m\u001b[1;33m\u001b[0m\u001b[1;33m\u001b[0m\u001b[0m\n\u001b[1;32m---> 20\u001b[1;33m             \u001b[1;32mfor\u001b[0m \u001b[0mj\u001b[0m \u001b[1;32min\u001b[0m \u001b[0msearch\u001b[0m\u001b[1;33m(\u001b[0m\u001b[0mquery\u001b[0m\u001b[1;33m,\u001b[0m \u001b[0mnum\u001b[0m\u001b[1;33m=\u001b[0m\u001b[1;36m10\u001b[0m\u001b[1;33m)\u001b[0m\u001b[1;33m:\u001b[0m\u001b[1;33m\u001b[0m\u001b[1;33m\u001b[0m\u001b[0m\n\u001b[0m\u001b[0;32m     21\u001b[0m                 \u001b[1;32mif\u001b[0m \u001b[0mfindGender\u001b[0m\u001b[1;33m(\u001b[0m\u001b[0mj\u001b[0m\u001b[1;33m)\u001b[0m\u001b[1;33m==\u001b[0m\u001b[1;34m\"male\"\u001b[0m\u001b[1;33m:\u001b[0m\u001b[1;33m\u001b[0m\u001b[1;33m\u001b[0m\u001b[0m\n\u001b[0;32m     22\u001b[0m                     \u001b[0mNeur_IPS_male_authors\u001b[0m\u001b[1;33m+=\u001b[0m\u001b[1;36m1\u001b[0m\u001b[1;33m\u001b[0m\u001b[1;33m\u001b[0m\u001b[0m\n",
      "\u001b[1;31mTypeError\u001b[0m: search() got an unexpected keyword argument 'num'"
     ]
    }
   ],
   "source": [
    "#need to verify results still, but it's too slow anyways. I ended up having to close the program.\n",
    "#also I need to figure out why the parameters for the search method is different in VSCode\n",
    "genderBreakdown()"
   ]
  }
 ],
 "metadata": {
  "kernelspec": {
   "name": "python3",
   "display_name": "Python 3.9.0 64-bit"
  },
  "language_info": {
   "codemirror_mode": {
    "name": "ipython",
    "version": 3
   },
   "file_extension": ".py",
   "mimetype": "text/x-python",
   "name": "python",
   "nbconvert_exporter": "python",
   "pygments_lexer": "ipython3",
   "version": "3.9.0"
  },
  "interpreter": {
   "hash": "5af0d237d632a51ca6e5a9b5c789db7065d8a5950289640f1186ffdca5fccfd0"
  }
 },
 "nbformat": 4,
 "nbformat_minor": 5
}