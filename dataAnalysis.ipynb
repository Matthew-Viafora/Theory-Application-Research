{
 "cells": [
  {
   "cell_type": "markdown",
   "id": "cedc70af",
   "metadata": {},
   "source": [
    "# CSV Dataset Analysis\n",
    "\n",
    "- The objective of this file is to identify glaring problems of the csv datasets pulled from the NeurIPS, IJCAI, MLCH, ICML, and AAAI XML conferences from 2010-2020\n",
    "- If possible, this file will look into cleaning harmful/missing data as well as supplement gender and author affiliation via truncating the dataset to pull relevant information and insights"
   ]
  },
  {
   "cell_type": "code",
   "execution_count": 90,
   "id": "6bd0acb0",
   "metadata": {},
   "outputs": [],
   "source": [
    "import pandas as pd"
   ]
  },
  {
   "cell_type": "markdown",
   "id": "bde3ecfe",
   "metadata": {},
   "source": [
    "## Neur-IPS\n",
    "\n",
    "- Below is a preview of a couple of columns we'll work with from the Neur-IPS dataset:\n",
    "    - first-author: The name of the first author of the paper\n",
    "    - last-author: The name of the last author written of the same paper\n",
    "    - paper-url: The link to the paper\n",
    "    - DBLP-url: The link to the DBLP page that hosts all of the papers that which we are pulling the data from"
   ]
  },
  {
   "cell_type": "code",
   "execution_count": 91,
   "id": "96de0f15",
   "metadata": {},
   "outputs": [
    {
     "name": "stdout",
     "output_type": "stream",
     "text": [
      "      Unnamed: 0  year      first-author          last-author  \\\n",
      "0              0  2017     Sheng Li 0001          Yun Fu 0001   \n",
      "1              1  2017    Jiajun Wu 0001  Josh Tenenbaum 0001   \n",
      "2              2  2017      Rong Ge 0001            Tengyu Ma   \n",
      "3              3  2017    Ziyu Wang 0001        Nicolas Heess   \n",
      "4              4  2017      Ping Li 0001       Martin Slawski   \n",
      "...          ...   ...               ...                  ...   \n",
      "6393        6393  2010     Yu Zhang 0006              Qian Xu   \n",
      "6394        6394  2010  Hongbo Zhou 0001          Qiang Cheng   \n",
      "6395        6395  2010      Jun Zhu 0001         Eric P. Xing   \n",
      "6396        6396  2010  Martin Zinkevich       Lihong Li 0001   \n",
      "6397        6397  2010  John D. Lafferty         Aron Culotta   \n",
      "\n",
      "     journal/conference                                              title  \\\n",
      "0                  NIPS  Matching on Balanced Nonlinear Representations...   \n",
      "1                  NIPS   Learning to See Physics via Visual De-animation.   \n",
      "2                  NIPS  On the Optimization Landscape of Tensor Decomp...   \n",
      "3                  NIPS             Robust Imitation of Diverse Behaviors.   \n",
      "4                  NIPS  Simple strategies for recovering inner product...   \n",
      "...                 ...                                                ...   \n",
      "6393               NIPS        Probabilistic Multi-Task Feature Selection.   \n",
      "6394               NIPS  Sufficient Conditions for Generating Group Lev...   \n",
      "6395               NIPS  Large Margin Learning of Upstream Scene Unders...   \n",
      "6396               NIPS          Parallelized Stochastic Gradient Descent.   \n",
      "6397               NIPS  Advances in Neural Information Processing Syst...   \n",
      "\n",
      "      number-of-authors                                          paper-url  \\\n",
      "0                     2  https://proceedings.neurips.cc/paper/2017/hash...   \n",
      "1                     5  https://proceedings.neurips.cc/paper/2017/hash...   \n",
      "2                     2  https://proceedings.neurips.cc/paper/2017/hash...   \n",
      "3                     6  https://proceedings.neurips.cc/paper/2017/hash...   \n",
      "4                     2  https://proceedings.neurips.cc/paper/2017/hash...   \n",
      "...                 ...                                                ...   \n",
      "6393                  3  https://proceedings.neurips.cc/paper/2010/hash...   \n",
      "6394                  2  https://proceedings.neurips.cc/paper/2010/hash...   \n",
      "6395                  4  https://proceedings.neurips.cc/paper/2010/hash...   \n",
      "6396                  4  https://proceedings.neurips.cc/paper/2010/hash...   \n",
      "6397                  5          https://proceedings.neurips.cc/paper/2010   \n",
      "\n",
      "                                           DBLP-url  \n",
      "0            https://dblp.org/rec/conf/nips/0001F17  \n",
      "1         https://dblp.org/rec/conf/nips/0001LKFT17  \n",
      "2            https://dblp.org/rec/conf/nips/0001M17  \n",
      "3        https://dblp.org/rec/conf/nips/0001MRFWH17  \n",
      "4            https://dblp.org/rec/conf/nips/0001S17  \n",
      "...                                             ...  \n",
      "6393       https://dblp.org/rec/conf/nips/ZhangYX10  \n",
      "6394         https://dblp.org/rec/conf/nips/ZhouC10  \n",
      "6395        https://dblp.org/rec/conf/nips/ZhuLLX10  \n",
      "6396  https://dblp.org/rec/conf/nips/ZinkevichWSL10  \n",
      "6397            https://dblp.org/rec/conf/nips/2010  \n",
      "\n",
      "[6398 rows x 9 columns]\n"
     ]
    }
   ],
   "source": [
    "data_Neur_IPS = pd.read_csv(\"NeurIPS-XML-output.csv\")\n",
    "print(data)"
   ]
  },
  {
   "cell_type": "markdown",
   "id": "3d9fca24",
   "metadata": {},
   "source": [
    "### Problem 1: paper-url\n",
    "\n",
    "From face value, we already can see an issue with the paper-url(s). It looks to be that every paper besides the last (6398th) are invalid due to the structure of the link. Unlike that of the functioning last link, the previous paper-urls contain an additional \"/hash\" that leads to an unfound page."
   ]
  },
  {
   "cell_type": "code",
   "execution_count": 92,
   "id": "26b064a5",
   "metadata": {},
   "outputs": [
    {
     "name": "stdout",
     "output_type": "stream",
     "text": [
      "<class 'pandas.core.frame.DataFrame'>\n",
      "RangeIndex: 6398 entries, 0 to 6397\n",
      "Data columns (total 9 columns):\n",
      " #   Column              Non-Null Count  Dtype \n",
      "---  ------              --------------  ----- \n",
      " 0   Unnamed: 0          6398 non-null   int64 \n",
      " 1   year                6398 non-null   int64 \n",
      " 2   first-author        6398 non-null   object\n",
      " 3   last-author         6398 non-null   object\n",
      " 4   journal/conference  6397 non-null   object\n",
      " 5   title               6398 non-null   object\n",
      " 6   number-of-authors   6398 non-null   int64 \n",
      " 7   paper-url           6398 non-null   object\n",
      " 8   DBLP-url            6398 non-null   object\n",
      "dtypes: int64(3), object(6)\n",
      "memory usage: 450.0+ KB\n"
     ]
    }
   ],
   "source": [
    "data_Neur_IPS.info()"
   ]
  },
  {
   "cell_type": "markdown",
   "id": "f3fc2045",
   "metadata": {},
   "source": [
    "### Missing Data\n",
    "\n",
    "In the case of Neur-IPS, we only have one missing value out of the 6398 rows. We can disregard this missing item since it belongs to \"journal/conference\", and we already know that it is from Neur-IPS (confirmed in it's affiliated urls)."
   ]
  },
  {
   "cell_type": "code",
   "execution_count": 93,
   "id": "fba24d18",
   "metadata": {},
   "outputs": [
    {
     "name": "stdout",
     "output_type": "stream",
     "text": [
      "     Unnamed: 0  year    first-author    last-author journal/conference  \\\n",
      "679         679  2017  Isabelle Guyon  Roman Garnett                NaN   \n",
      "\n",
      "                                                 title  number-of-authors  \\\n",
      "679  Advances in Neural Information Processing Syst...                  7   \n",
      "\n",
      "                                     paper-url  \\\n",
      "679  https://proceedings.neurips.cc/paper/2017   \n",
      "\n",
      "                                DBLP-url  \n",
      "679  https://dblp.org/rec/conf/nips/2017  \n"
     ]
    }
   ],
   "source": [
    "print(data_Neur_IPS[data_Neur_IPS.isna().any(axis=1)])"
   ]
  },
  {
   "cell_type": "markdown",
   "id": "d995ec15",
   "metadata": {},
   "source": [
    "### Filtering Data Pt. 1\n",
    "\n",
    "We are mainly focused on certain rows/columns, so we will filter out the data that is not the first/last author, paper-url, and/or DBLP-url"
   ]
  },
  {
   "cell_type": "code",
   "execution_count": 94,
   "id": "7aa744f5",
   "metadata": {},
   "outputs": [
    {
     "name": "stdout",
     "output_type": "stream",
     "text": [
      "<class 'pandas.core.frame.DataFrame'>\n",
      "RangeIndex: 6398 entries, 0 to 6397\n",
      "Data columns (total 4 columns):\n",
      " #   Column        Non-Null Count  Dtype \n",
      "---  ------        --------------  ----- \n",
      " 0   first-author  6398 non-null   object\n",
      " 1   last-author   6398 non-null   object\n",
      " 2   paper-url     6398 non-null   object\n",
      " 3   DBLP-url      6398 non-null   object\n",
      "dtypes: object(4)\n",
      "memory usage: 200.1+ KB\n",
      "None\n"
     ]
    }
   ],
   "source": [
    "data_Neur_IPS_updated = data_Neur_IPS.drop(data.columns[4:7],axis=1)\n",
    "data_Neur_IPS_updated = data_Neur_IPS_updated.drop(data.columns[0:2],axis=1)\n",
    "print(data_Neur_IPS_updated.info())"
   ]
  },
  {
   "cell_type": "code",
   "execution_count": 95,
   "id": "5ecbc577",
   "metadata": {},
   "outputs": [
    {
     "name": "stdout",
     "output_type": "stream",
     "text": [
      "          first-author          last-author  \\\n",
      "0        Sheng Li 0001          Yun Fu 0001   \n",
      "1       Jiajun Wu 0001  Josh Tenenbaum 0001   \n",
      "2         Rong Ge 0001            Tengyu Ma   \n",
      "3       Ziyu Wang 0001        Nicolas Heess   \n",
      "4         Ping Li 0001       Martin Slawski   \n",
      "...                ...                  ...   \n",
      "6393     Yu Zhang 0006              Qian Xu   \n",
      "6394  Hongbo Zhou 0001          Qiang Cheng   \n",
      "6395      Jun Zhu 0001         Eric P. Xing   \n",
      "6396  Martin Zinkevich       Lihong Li 0001   \n",
      "6397  John D. Lafferty         Aron Culotta   \n",
      "\n",
      "                                              paper-url  \\\n",
      "0     https://proceedings.neurips.cc/paper/2017/hash...   \n",
      "1     https://proceedings.neurips.cc/paper/2017/hash...   \n",
      "2     https://proceedings.neurips.cc/paper/2017/hash...   \n",
      "3     https://proceedings.neurips.cc/paper/2017/hash...   \n",
      "4     https://proceedings.neurips.cc/paper/2017/hash...   \n",
      "...                                                 ...   \n",
      "6393  https://proceedings.neurips.cc/paper/2010/hash...   \n",
      "6394  https://proceedings.neurips.cc/paper/2010/hash...   \n",
      "6395  https://proceedings.neurips.cc/paper/2010/hash...   \n",
      "6396  https://proceedings.neurips.cc/paper/2010/hash...   \n",
      "6397          https://proceedings.neurips.cc/paper/2010   \n",
      "\n",
      "                                           DBLP-url  \n",
      "0            https://dblp.org/rec/conf/nips/0001F17  \n",
      "1         https://dblp.org/rec/conf/nips/0001LKFT17  \n",
      "2            https://dblp.org/rec/conf/nips/0001M17  \n",
      "3        https://dblp.org/rec/conf/nips/0001MRFWH17  \n",
      "4            https://dblp.org/rec/conf/nips/0001S17  \n",
      "...                                             ...  \n",
      "6393       https://dblp.org/rec/conf/nips/ZhangYX10  \n",
      "6394         https://dblp.org/rec/conf/nips/ZhouC10  \n",
      "6395        https://dblp.org/rec/conf/nips/ZhuLLX10  \n",
      "6396  https://dblp.org/rec/conf/nips/ZinkevichWSL10  \n",
      "6397            https://dblp.org/rec/conf/nips/2010  \n",
      "\n",
      "[6398 rows x 4 columns]\n"
     ]
    }
   ],
   "source": [
    "print(data_Neur_IPS_updated)"
   ]
  },
  {
   "cell_type": "markdown",
   "id": "93a56d09",
   "metadata": {},
   "source": [
    "### Note about author labeling:\n",
    "\n",
    "Taking just three random examples from the dataset, we see that the labels of the author can be misleading. For example, it may originally be inferred that an additional numerical value (i.e. 0001) attached alongside an author's name means that the author has posted multiple works in this conference. Since this data is strictly pulled from this conference, it is unlikely to assume the possibility that these numbers include the papers the author may have passed in other conferences.\n",
    "\n",
    "In the following cell, we have checked and printed all the sequences where the author's name was found, whether they were first author on the paper or the last. We check through each possibility, whether it's an author with no numerical value attached to their name, one with a value of 0001, or one greater than the former.\n",
    "\n",
    "The first test case of author \"Martin Zinkevich\" demonstrates that although he has no numerical value attached to his name, that he appears in multiple papers. This eliminates the other possibility that authors may have their name written in between other authors of other papers. Even if that were the case, then we at least know that it doesn't influence the number next to their name."
   ]
  },
  {
   "cell_type": "code",
   "execution_count": 96,
   "id": "8e433c88",
   "metadata": {},
   "outputs": [
    {
     "name": "stdout",
     "output_type": "stream",
     "text": [
      "          first-author     last-author  \\\n",
      "6396  Martin Zinkevich  Lihong Li 0001   \n",
      "\n",
      "                                              paper-url  \\\n",
      "6396  https://proceedings.neurips.cc/paper/2010/hash...   \n",
      "\n",
      "                                           DBLP-url  \n",
      "6396  https://dblp.org/rec/conf/nips/ZinkevichWSL10  \n",
      "         first-author       last-author  \\\n",
      "4876  Dale Schuurmans  Martin Zinkevich   \n",
      "\n",
      "                                              paper-url  \\\n",
      "4876  https://proceedings.neurips.cc/paper/2016/hash...   \n",
      "\n",
      "                                          DBLP-url  \n",
      "4876  https://dblp.org/rec/conf/nips/SchuurmansZ16  \n",
      "    first-author  last-author  \\\n",
      "0  Sheng Li 0001  Yun Fu 0001   \n",
      "\n",
      "                                           paper-url  \\\n",
      "0  https://proceedings.neurips.cc/paper/2017/hash...   \n",
      "\n",
      "                                 DBLP-url  \n",
      "0  https://dblp.org/rec/conf/nips/0001F17  \n",
      "Empty DataFrame\n",
      "Columns: [first-author, last-author, paper-url, DBLP-url]\n",
      "Index: []\n",
      "       first-author      last-author  \\\n",
      "1653  Yu Zhang 0006  Qiang Yang 0001   \n",
      "4024       Yu Zhang         Yu Zhang   \n",
      "6392  Yu Zhang 0006    Dit-Yan Yeung   \n",
      "6393  Yu Zhang 0006          Qian Xu   \n",
      "\n",
      "                                              paper-url  \\\n",
      "1653  https://proceedings.neurips.cc/paper/2018/hash...   \n",
      "4024  https://proceedings.neurips.cc/paper/2013/hash...   \n",
      "6392  https://proceedings.neurips.cc/paper/2010/hash...   \n",
      "6393  https://proceedings.neurips.cc/paper/2010/hash...   \n",
      "\n",
      "                                      DBLP-url  \n",
      "1653  https://dblp.org/rec/conf/nips/ZhangWY18  \n",
      "4024    https://dblp.org/rec/conf/nips/Zhang13  \n",
      "6392   https://dblp.org/rec/conf/nips/ZhangY10  \n",
      "6393  https://dblp.org/rec/conf/nips/ZhangYX10  \n",
      "     first-author last-author  \\\n",
      "4024     Yu Zhang    Yu Zhang   \n",
      "\n",
      "                                              paper-url  \\\n",
      "4024  https://proceedings.neurips.cc/paper/2013/hash...   \n",
      "\n",
      "                                    DBLP-url  \n",
      "4024  https://dblp.org/rec/conf/nips/Zhang13  \n"
     ]
    }
   ],
   "source": [
    "#test to check author with no numerical value\n",
    "print(data_Neur_IPS_updated[data_Neur_IPS_updated['first-author'].astype(str).str.contains('Martin Zinkevich')])\n",
    "print(data_Neur_IPS_updated[data_Neur_IPS_updated['last-author'].astype(str).str.contains('Martin Zinkevich')])\n",
    "\n",
    "#test to check author with numerical value of 0001\n",
    "print(data_Neur_IPS_updated[data_Neur_IPS_updated['first-author'].astype(str).str.contains('Sheng Li')])\n",
    "print(data_Neur_IPS_updated[data_Neur_IPS_updated['last-author'].astype(str).str.contains('Sheng Li')])\n",
    "\n",
    "#test to check author with numerical value greater than 0001\n",
    "print(data_Neur_IPS_updated[data_Neur_IPS_updated['first-author'].astype(str).str.contains('Yu Zhang')])\n",
    "print(data_Neur_IPS_updated[data_Neur_IPS_updated['last-author'].astype(str).str.contains('Yu Zhang')])"
   ]
  },
  {
   "cell_type": "markdown",
   "id": "8f3ee544",
   "metadata": {},
   "source": [
    "### I'm going to be using the space below now to test/work on the gender script now that the data is more clear. Afterwards, I will visually represent our findings."
   ]
  }
 ],
 "metadata": {
  "kernelspec": {
   "display_name": "Python 3",
   "language": "python",
   "name": "python3"
  },
  "language_info": {
   "codemirror_mode": {
    "name": "ipython",
    "version": 3
   },
   "file_extension": ".py",
   "mimetype": "text/x-python",
   "name": "python",
   "nbconvert_exporter": "python",
   "pygments_lexer": "ipython3",
   "version": "3.8.8"
  }
 },
 "nbformat": 4,
 "nbformat_minor": 5
}
